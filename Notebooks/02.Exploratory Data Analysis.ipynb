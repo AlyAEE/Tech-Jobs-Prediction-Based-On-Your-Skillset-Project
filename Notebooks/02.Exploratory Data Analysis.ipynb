{
 "cells": [
  {
   "cell_type": "code",
   "execution_count": 1,
   "id": "ee9e41ec-3e30-4553-9093-f78e30ce7946",
   "metadata": {
    "tags": []
   },
   "outputs": [],
   "source": [
    "# Constants\n",
    "DATA_PATH   = \"../Data/Processed/1_preprocessed_df.pkl\"\n",
    "\n",
    "\n",
    "TECH_JOBS = ['Cloud infrastructure engineer',\n",
    "             'Developer, embedded applications or devices',\n",
    "             'Data or business analyst',\n",
    "             'System administrator',\n",
    "             'Developer, front-end',\n",
    "             'Scientist',\n",
    "             'DevOps specialist',\n",
    "             'Developer, game or graphics',\n",
    "             'Academic researcher',\n",
    "             'Security professional',\n",
    "             'Developer, QA or test',\n",
    "             'Blockchain',\n",
    "             'Developer, full-stack',\n",
    "             'Data scientist or machine learning specialist',\n",
    "             'Developer, mobile',\n",
    "             'Developer, desktop or enterprise applications',\n",
    "             'Developer, back-end',\n",
    "             'Database administrator',\n",
    "             'Engineer, data']\n",
    "\n",
    "CORE_COLS = ['VersionControlSystem'\n",
    "             'Languages',\n",
    "             'Databases',\n",
    "             'Platforms',\n",
    "             'WebFrameworks',\n",
    "             'MiscTech',\n",
    "             'ToolsTech',\n",
    "             'CollabTools'\n",
    "]\n",
    "\n",
    "USEFUL_COLS= ['Employment','RemoteWork',\n",
    "              'MainBranch','CodingActivities','ProfessionalTech',\n",
    "              'LearnCode', 'LearnCodeOnline', 'LearnCodeCoursesCert',\n",
    "              'WorkExp', 'YearsCode', 'YearsCodePro', 'EdLevel',\n",
    "              'OrgSize', 'Country',\n",
    "              'ConvertedCompYearly', 'Currency', 'CompTotal', 'CompFreq']"
   ]
  },
  {
   "cell_type": "code",
   "execution_count": 3,
   "id": "7a71c416-6d6d-4160-a897-b72022d47235",
   "metadata": {
    "tags": []
   },
   "outputs": [],
   "source": [
    "# Load packages\n",
    "import pandas as pd \n",
    "import numpy as np\n",
    "import logging\n",
    "import pickle\n",
    "\n",
    "from pathlib import Path\n",
    "\n",
    "pd.options.display.max_rows = 1000\n",
    "pd.options.display.max_columns = 1000"
   ]
  },
  {
   "cell_type": "markdown",
   "id": "cdf9f863-e75e-4038-a4cd-27f5c8cf0e19",
   "metadata": {},
   "source": [
    "_______"
   ]
  },
  {
   "cell_type": "markdown",
   "id": "397e050d-133b-4e20-950f-8952c55552ec",
   "metadata": {},
   "source": [
    "### Functions"
   ]
  },
  {
   "cell_type": "code",
   "execution_count": 4,
   "id": "07a8d48d-139a-4dd7-b237-14d6d50457b2",
   "metadata": {
    "tags": []
   },
   "outputs": [],
   "source": [
    "# Create a Folder named Images to save figures in.\n",
    "IMAGES_PATH = Path.cwd().parent / \"Images\"\n",
    "IMAGES_PATH.mkdir(parents=True, exist_ok=True)\n",
    "\n",
    "def save_fig(fig_id, tight_layout=True, fig_extension=\"png\", resolution=300):\n",
    "    \"\"\"\n",
    "    This functions will save the current figure shown below.\n",
    "    \n",
    "    Args:\n",
    "        fig_id: String Containing the name of the figure.\n",
    "        tight_layout: Boolean to decide whether you want a tight layout or not.\n",
    "        fig_extension: String to decide the type of the figure.\n",
    "        resoultion: Int to decide the resolution of the figure.\n",
    "        \n",
    "    Returns:\n",
    "        None\n",
    "    \"\"\"\n",
    "    path = IMAGES_PATH / f\"{fig_id}.{fig_extension}\"\n",
    "    \n",
    "    if tight_layout:\n",
    "        plt.tight_layout()\n",
    "        \n",
    "    plt.savefig(path, format=fig_extension, dpi=resolution)"
   ]
  },
  {
   "cell_type": "markdown",
   "id": "53fb1fde-f406-4372-89ea-052bc4fac3fd",
   "metadata": {},
   "source": [
    "### Questions we need to answer"
   ]
  },
  {
   "cell_type": "code",
   "execution_count": null,
   "id": "86760609-2341-450b-9f08-65da733cf7e0",
   "metadata": {},
   "outputs": [],
   "source": []
  }
 ],
 "metadata": {
  "kernelspec": {
   "display_name": "Python 3 (ipykernel)",
   "language": "python",
   "name": "python3"
  },
  "language_info": {
   "codemirror_mode": {
    "name": "ipython",
    "version": 3
   },
   "file_extension": ".py",
   "mimetype": "text/x-python",
   "name": "python",
   "nbconvert_exporter": "python",
   "pygments_lexer": "ipython3",
   "version": "3.11.4"
  }
 },
 "nbformat": 4,
 "nbformat_minor": 5
}
