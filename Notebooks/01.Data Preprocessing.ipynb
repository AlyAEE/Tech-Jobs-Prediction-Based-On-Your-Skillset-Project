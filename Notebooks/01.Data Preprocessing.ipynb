{
 "cells": [
  {
   "cell_type": "markdown",
   "id": "37b2a30f-9cc3-40f4-9346-0e267aa2a5c7",
   "metadata": {},
   "source": [
    "# Data Preprocessing"
   ]
  },
  {
   "cell_type": "code",
   "execution_count": 11,
   "id": "406e0b37-1dcb-4491-9aee-ac584f9a282f",
   "metadata": {
    "tags": []
   },
   "outputs": [],
   "source": [
    "# Constants\n",
    "DATA_PATH   = \"../Data/Raw/survey_results_public2022.csv\"\n",
    "EXPORT_PATH = \"../Data/Processed/1_preprocessed_df.pkl\"\n",
    "\n",
    "REPLACE_YEARS_TEXT = {\n",
    "    'YearsCodePro': {'Less than 1 year': 0, 'More than 50 years': 51}, \n",
    "    'YearsCode':    {'Less than 1 year': 0, 'More than 50 years': 51}}"
   ]
  },
  {
   "cell_type": "code",
   "execution_count": 5,
   "id": "971b9ab4-77b3-4f43-8d7b-fb9ed6f8b3f4",
   "metadata": {
    "tags": []
   },
   "outputs": [],
   "source": [
    "# Load packages\n",
    "import pandas as pd \n",
    "import numpy as np\n",
    "import logging\n",
    "import pickle\n",
    "from pathlib import Path"
   ]
  },
  {
   "cell_type": "markdown",
   "id": "4a7b21df-88fe-43b9-855a-769634ede8f0",
   "metadata": {},
   "source": [
    "______"
   ]
  },
  {
   "cell_type": "markdown",
   "id": "4292db41-87ed-4237-ba25-b211ffc2e39e",
   "metadata": {
    "tags": []
   },
   "source": [
    "### Functions"
   ]
  },
  {
   "cell_type": "code",
   "execution_count": 9,
   "id": "62cd3444-05c9-4532-b2b9-3ba86c988892",
   "metadata": {
    "tags": []
   },
   "outputs": [],
   "source": [
    "# Create a Folder named Images to save figures in.\n",
    "IMAGES_PATH = Path.cwd().parent / \"Images\"\n",
    "IMAGES_PATH.mkdir(parents=True, exist_ok=True)\n",
    "\n",
    "def save_fig(fig_id, tight_layout=True, fig_extension=\"png\", resolution=300):\n",
    "    \"\"\"\n",
    "    This functions will save the current figure shown below.\n",
    "    \n",
    "    Args:\n",
    "        fig_id: String Containing the name of the figure.\n",
    "        tight_layout: Boolean to decide whether you want a tight layout or not.\n",
    "        fig_extension: String to decide the type of the figure.\n",
    "        resoultion: Int to decide the resolution of the figure.\n",
    "        \n",
    "    Returns:\n",
    "        None\n",
    "    \"\"\"\n",
    "    path = IMAGES_PATH / f\"{fig_id}.{fig_extension}\"\n",
    "    \n",
    "    if tight_layout:\n",
    "        plt.tight_layout()\n",
    "        \n",
    "    plt.savefig(path, format=fig_extension, dpi=resolution)"
   ]
  },
  {
   "cell_type": "code",
   "execution_count": null,
   "id": "1f71c27a-bc28-4e20-80bb-4ddc657493ae",
   "metadata": {},
   "outputs": [],
   "source": [
    "def print_unique_values(df, columns):\n",
    "    \"\"\"\n",
    "    Print the unique values for each categorical column and there count in the DataFrame.\n",
    "\n",
    "    Args:\n",
    "        df (DataFrame): DataFrame containing categorical columns.\n",
    "        columns (list): Array of column names to loop through.\n",
    "\n",
    "    Returns:\n",
    "        None\n",
    "    \"\"\"\n",
    "    for col in columns:\n",
    "        value_counts = df[col].value_counts().head(5)\n",
    "        unique_count = len(df[col].unique())\n",
    "        print(f\"Unique values of {col}:\\nNo. of Unique values: {unique_count}\\n{value_counts}' \\n\")"
   ]
  },
  {
   "cell_type": "markdown",
   "id": "44fc1f2b-1531-42a0-af50-8054dcc03dec",
   "metadata": {},
   "source": [
    "______"
   ]
  },
  {
   "cell_type": "code",
   "execution_count": 7,
   "id": "022e4d66-7135-409c-8847-496b55d72f2e",
   "metadata": {
    "tags": []
   },
   "outputs": [],
   "source": [
    "# Load dataset and make a copy\n",
    "raw_df = pd.read_csv(DATA_PATH)\n",
    "df = raw_df.copy()"
   ]
  },
  {
   "cell_type": "code",
   "execution_count": 16,
   "id": "ea60ff83-6790-4fdc-bc62-ae40f952d16a",
   "metadata": {
    "tags": []
   },
   "outputs": [
    {
     "data": {
      "text/plain": [
       "False    73268\n",
       "dtype: int64"
      ]
     },
     "execution_count": 16,
     "metadata": {},
     "output_type": "execute_result"
    }
   ],
   "source": [
    "# Check for duplicates\n",
    "raw_df.duplicated().value_counts()"
   ]
  },
  {
   "cell_type": "markdown",
   "id": "440628db-2af5-4aa4-ae49-b0615580344c",
   "metadata": {},
   "source": [
    "- **The Dataset contains no duplicate values.**"
   ]
  },
  {
   "cell_type": "code",
   "execution_count": null,
   "id": "f5078833-cd41-467e-b1a5-1791aa06c8c0",
   "metadata": {},
   "outputs": [],
   "source": []
  },
  {
   "cell_type": "markdown",
   "id": "586962dd-ce87-41ca-99a3-b3ce53348c5b",
   "metadata": {},
   "source": [
    "- **Changes need to be done:**\n",
    "    - **Change the text values in `YearsCode` and `YearsCodePro` to numerical values**\n",
    "    - **The features that contain multiple answers in each row need to be splitted** \n",
    "    - **The skills inside the features that end with `HaveWorkedWith` or `WantToWorkWith` need to be combined.** \n",
    "    - **Return the only needed features**"
   ]
  },
  {
   "cell_type": "markdown",
   "id": "e7c3bcbf-caa7-49bb-87c5-7009bf363b78",
   "metadata": {},
   "source": [
    "- **Go through the schema of the survey to identify each feature and the question it asks to identify its importance for our business case**\n",
    "    - **Unuseful features:**\n",
    "        - `ResponseId`, `SurveyEase`, `SurveyLength`\n",
    "        - `TrueFalse_1` to `TrueFalse_3`, `Frequency_1` to `Frequency_3`, `Knowledge_1` to `knowledge_7`\n",
    "        - `Onboarding`, `TimeSearching`, `TimeAnswering`, `ICorPM`, `TBranch`\n",
    "        - `Trans`, `Sexuality`, `Ethnicity`, `Accessibility`, `MentalHealth`, `Age`, `Gender`, `Blockchain`    \n",
    "        - `SOComm`, `NEWSOSites`, `SOVisitFreq`, `SOPartFreq`,`SOAccount`, `BuyNewTool`, `PurchaseInfluence`, \n",
    "        - `OfficeStackAsyncHaveWorkedWith`, `OfficeStackAsyncWantToWorkWith`, `OfficeStackSyncHaveWorkedWith`, `OfficeStackSyncWantToWorkWith`\n",
    "        - `VCHostingPersonal use` , `VCHostingProfessional use`\n",
    "        - `OpSysProfessional use`,  `OpSysPersonal use`,\n",
    "        \n",
    "        \n",
    "    - **Might be useful features:** \n",
    "        - `Employment`,`RemoteWork`,\n",
    "        - `MainBranch`,`CodingActivities`, `ProfessionalTech`,\n",
    "        - `LearnCode`, `LearnCodeOnline`, `LearnCodeCoursesCert`\n",
    "        - `WorkExp`, `YearsCode`, `YearsCodePro`, `EdLevel`,\n",
    "        - `OrgSize`, `Country`,\n",
    "        - `ConvertedCompYearly`, `Currency`, `CompTotal`, `CompFreq`\n",
    "        \n",
    "    - **Core features:** \n",
    "        - `DevType`\n",
    "        - `VersionControlSystem`,  `VCInteraction`,  \n",
    "        - `LanguageHaveWorkedWith`,  `LanguageWantToWorkWith`,  \n",
    "        - `DatabaseHaveWorkedWith`,  `DatabaseWantToWorkWith`,  \n",
    "        - `PlatformHaveWorkedWith`,  `PlatformWantToWorkWith`,  \n",
    "        - `WebframeHaveWorkedWith`,  `WebframeWantToWorkWith`,  \n",
    "        - `MiscTechHaveWorkedWith`,`MiscTechWantToWorkWith`,  \n",
    "        - `ToolsTechHaveWorkedWith`,`ToolsTechWantToWorkWith`,                                    \n",
    "        - `NEWCollabToolsHaveWorkedWith`,  `NEWCollabToolsWantToWorkWith`,  "
   ]
  }
 ],
 "metadata": {
  "kernelspec": {
   "display_name": "Python 3 (ipykernel)",
   "language": "python",
   "name": "python3"
  },
  "language_info": {
   "codemirror_mode": {
    "name": "ipython",
    "version": 3
   },
   "file_extension": ".py",
   "mimetype": "text/x-python",
   "name": "python",
   "nbconvert_exporter": "python",
   "pygments_lexer": "ipython3",
   "version": "3.11.4"
  }
 },
 "nbformat": 4,
 "nbformat_minor": 5
}
