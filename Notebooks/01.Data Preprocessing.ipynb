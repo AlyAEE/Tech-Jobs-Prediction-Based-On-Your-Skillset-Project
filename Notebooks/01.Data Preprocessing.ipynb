{
 "cells": [
  {
   "cell_type": "markdown",
   "id": "37b2a30f-9cc3-40f4-9346-0e267aa2a5c7",
   "metadata": {},
   "source": [
    "# Data Preprocessing"
   ]
  },
  {
   "cell_type": "code",
   "execution_count": 1,
   "id": "406e0b37-1dcb-4491-9aee-ac584f9a282f",
   "metadata": {
    "tags": []
   },
   "outputs": [],
   "source": [
    "# Constants\n",
    "DATA_PATH   = \"../Data/Raw/survey_results_public2022.csv\"\n",
    "EXPORT_PATH = \"../Data/Processed/1_preprocessed_df.pkl\"\n",
    "\n",
    "ROLE_COL = ['DevType']\n",
    "CORE_COLS = [\n",
    "             'VersionControlSystem',  \n",
    "             'LanguageHaveWorkedWith',  'LanguageWantToWorkWith',  \n",
    "             'DatabaseHaveWorkedWith',  'DatabaseWantToWorkWith',  \n",
    "             'PlatformHaveWorkedWith',  'PlatformWantToWorkWith',  \n",
    "             'WebframeHaveWorkedWith',  'WebframeWantToWorkWith',  \n",
    "             'MiscTechHaveWorkedWith','MiscTechWantToWorkWith',  \n",
    "             'ToolsTechHaveWorkedWith','ToolsTechWantToWorkWith',                                    \n",
    "             'NEWCollabToolsHaveWorkedWith',  'NEWCollabToolsWantToWorkWith'\n",
    "]\n",
    "\n",
    "USEFUL_COLS= ['Employment','RemoteWork',\n",
    "              'MainBranch','CodingActivities','ProfessionalTech',\n",
    "              'LearnCode', 'LearnCodeOnline', 'LearnCodeCoursesCert',\n",
    "              'WorkExp', 'YearsCode', 'YearsCodePro', 'EdLevel',\n",
    "              'OrgSize', 'Country',\n",
    "              'ConvertedCompYearly', 'Currency', 'CompTotal', 'CompFreq']"
   ]
  },
  {
   "cell_type": "code",
   "execution_count": 2,
   "id": "971b9ab4-77b3-4f43-8d7b-fb9ed6f8b3f4",
   "metadata": {
    "tags": []
   },
   "outputs": [],
   "source": [
    "# Load packages\n",
    "import pandas as pd \n",
    "import numpy as np\n",
    "import logging\n",
    "import pickle\n",
    "from pathlib import Path\n",
    "\n",
    "pd.options.display.max_rows = 10000\n",
    "pd.options.display.max_columns = 10000"
   ]
  },
  {
   "cell_type": "markdown",
   "id": "4a7b21df-88fe-43b9-855a-769634ede8f0",
   "metadata": {},
   "source": [
    "______"
   ]
  },
  {
   "cell_type": "markdown",
   "id": "4292db41-87ed-4237-ba25-b211ffc2e39e",
   "metadata": {
    "tags": []
   },
   "source": [
    "### Functions"
   ]
  },
  {
   "cell_type": "code",
   "execution_count": 3,
   "id": "62cd3444-05c9-4532-b2b9-3ba86c988892",
   "metadata": {
    "tags": []
   },
   "outputs": [],
   "source": [
    "# Create a Folder named Images to save figures in.\n",
    "IMAGES_PATH = Path.cwd().parent / \"Images\"\n",
    "IMAGES_PATH.mkdir(parents=True, exist_ok=True)\n",
    "\n",
    "def save_fig(fig_id, tight_layout=True, fig_extension=\"png\", resolution=300):\n",
    "    \"\"\"\n",
    "    This functions will save the current figure shown below.\n",
    "    \n",
    "    Args:\n",
    "        fig_id: String Containing the name of the figure.\n",
    "        tight_layout: Boolean to decide whether you want a tight layout or not.\n",
    "        fig_extension: String to decide the type of the figure.\n",
    "        resoultion: Int to decide the resolution of the figure.\n",
    "        \n",
    "    Returns:\n",
    "        None\n",
    "    \"\"\"\n",
    "    path = IMAGES_PATH / f\"{fig_id}.{fig_extension}\"\n",
    "    \n",
    "    if tight_layout:\n",
    "        plt.tight_layout()\n",
    "        \n",
    "    plt.savefig(path, format=fig_extension, dpi=resolution)"
   ]
  },
  {
   "cell_type": "code",
   "execution_count": 4,
   "id": "1f71c27a-bc28-4e20-80bb-4ddc657493ae",
   "metadata": {},
   "outputs": [],
   "source": [
    "def print_unique_values(df, columns):\n",
    "    \"\"\"\n",
    "    Print the unique values for each categorical column and there count in the DataFrame.\n",
    "\n",
    "    Args:\n",
    "        df (DataFrame): DataFrame containing categorical columns.\n",
    "        columns (list): List of column names to loop through.\n",
    "\n",
    "    Returns:\n",
    "        None\n",
    "    \"\"\"\n",
    "    for col in columns:\n",
    "        value_counts = df[col].value_counts().head(5)\n",
    "        unique_count = len(df[col].unique())\n",
    "        print(f\"Unique values of {col}:\\nNo. of Unique values: {unique_count}\\n{value_counts}' \\n\")"
   ]
  },
  {
   "cell_type": "code",
   "execution_count": 5,
   "id": "f9e8d050-dd62-4c03-9517-4b83f88767ff",
   "metadata": {
    "tags": []
   },
   "outputs": [],
   "source": [
    "def replace_values(df, cols, key_value, type):\n",
    "    \"\"\"\n",
    "    Replace the values of a certain column to a desired value and set the column to the desired type\n",
    "    \n",
    "    Args:\n",
    "        df (DataFrame): DataFrame containing columns you want to replace.\n",
    "        cols (list): List of column names to loop through.\n",
    "        key_value (dict): Dictionary contains the original value and new value {'original_value' : 'new_value'}\n",
    "        type : The desired type of column type = np.int32\n",
    "        \n",
    "    Returns:\n",
    "        None\n",
    "        \n",
    "    \"\"\"\n",
    "    # loop through each column and replace the key_value pair\n",
    "    for col in cols:\n",
    "        df[col] = df[col].replace(key_value).astype(type)"
   ]
  },
  {
   "cell_type": "code",
   "execution_count": 6,
   "id": "733a10db-5faf-4943-a682-a96851188b2e",
   "metadata": {
    "tags": []
   },
   "outputs": [],
   "source": [
    "def split_values(df, cols= [], delimiter=','):\n",
    "    \"\"\" \n",
    "    Split multiple values in a single string \n",
    "    to a list of single strings each represnting a single value. \n",
    "\n",
    "    Args:\n",
    "    df (Dataframe): Dataframe contains desired columns\n",
    "    delimiter (string): the delimiter to split on ex: ':' \n",
    "\n",
    "    Returns:\n",
    "        None\n",
    "    \"\"\"\n",
    "    #select only object columns\n",
    "    cols = df[cols].select_dtypes(include='object').columns.tolist()\n",
    "    \n",
    "    # loop through object columns and convert to list on the decided delimiter\n",
    "    for col in cols:\n",
    "        df[col] = df[col].str.split(delimiter)"
   ]
  },
  {
   "cell_type": "code",
   "execution_count": 7,
   "id": "0f2cc8f3-1057-42f0-8275-3dbeb7d2df48",
   "metadata": {
    "tags": []
   },
   "outputs": [],
   "source": [
    "def combine_unique_values(df, cols_1, cols_2 , combined_cols):\n",
    "    \"\"\"\n",
    "    Combine related Columns and return unique values\n",
    "    \n",
    "    Args:\n",
    "    df (Dataframe): Dataframe contains desired columns\n",
    "    cols_1, cols_2 (List): Columns need to be combined \n",
    "    combined_cols (list): The new combined Columns\n",
    "    \"\"\"\n",
    "    # change the NAN values to [] to avoid errors\n",
    "    df[cols_1 + cols_2] = df[cols_1 + cols_2].applymap(lambda x: x if isinstance(x, list) else [])\n",
    "    \n",
    "    #loop through the cols\n",
    "    for i in range(len(cols_1)):\n",
    "        # create a lambda function to combine each row and return unique values\n",
    "        combine_lists_unique = lambda row: list(set(row[cols_1[i]] + row[cols_2[i]]))\n",
    "\n",
    "        # implement the lambda function using apply method and return the new combined column\n",
    "        df[combined_cols[i]] = df.apply(combine_lists_unique, axis=1)"
   ]
  },
  {
   "cell_type": "markdown",
   "id": "44fc1f2b-1531-42a0-af50-8054dcc03dec",
   "metadata": {},
   "source": [
    "______"
   ]
  },
  {
   "cell_type": "code",
   "execution_count": 8,
   "id": "022e4d66-7135-409c-8847-496b55d72f2e",
   "metadata": {
    "tags": []
   },
   "outputs": [],
   "source": [
    "# Load dataset and make a copy\n",
    "raw_df = pd.read_csv(DATA_PATH)\n",
    "df = raw_df.copy()"
   ]
  },
  {
   "cell_type": "code",
   "execution_count": 9,
   "id": "6f67066e-f6c9-4f08-a456-c43a034c4d17",
   "metadata": {},
   "outputs": [
    {
     "data": {
      "text/plain": [
       "79"
      ]
     },
     "execution_count": 9,
     "metadata": {},
     "output_type": "execute_result"
    }
   ],
   "source": [
    "len(raw_df.columns)"
   ]
  },
  {
   "cell_type": "markdown",
   "id": "7ebd34f6-9992-46af-acef-d8a9cf1fb724",
   "metadata": {},
   "source": [
    "### Remove Non-related Features"
   ]
  },
  {
   "cell_type": "code",
   "execution_count": 10,
   "id": "e5d73edf-d6e6-4323-b2b5-68e9b868c7ca",
   "metadata": {
    "tags": []
   },
   "outputs": [],
   "source": [
    "# Remove non_related Features\n",
    "df = df[ROLE_COL + CORE_COLS + USEFUL_COLS]"
   ]
  },
  {
   "cell_type": "code",
   "execution_count": 11,
   "id": "2cb3c5ff-823a-4520-9f92-b21e4c23e50f",
   "metadata": {
    "tags": []
   },
   "outputs": [
    {
     "name": "stdout",
     "output_type": "stream",
     "text": [
      "<class 'pandas.core.frame.DataFrame'>\n",
      "RangeIndex: 73268 entries, 0 to 73267\n",
      "Data columns (total 34 columns):\n",
      " #   Column                        Non-Null Count  Dtype  \n",
      "---  ------                        --------------  -----  \n",
      " 0   DevType                       61302 non-null  object \n",
      " 1   VersionControlSystem          71379 non-null  object \n",
      " 2   LanguageHaveWorkedWith        70975 non-null  object \n",
      " 3   LanguageWantToWorkWith        67027 non-null  object \n",
      " 4   DatabaseHaveWorkedWith        60121 non-null  object \n",
      " 5   DatabaseWantToWorkWith        51014 non-null  object \n",
      " 6   PlatformHaveWorkedWith        49924 non-null  object \n",
      " 7   PlatformWantToWorkWith        40415 non-null  object \n",
      " 8   WebframeHaveWorkedWith        53544 non-null  object \n",
      " 9   WebframeWantToWorkWith        46122 non-null  object \n",
      " 10  MiscTechHaveWorkedWith        44992 non-null  object \n",
      " 11  MiscTechWantToWorkWith        36810 non-null  object \n",
      " 12  ToolsTechHaveWorkedWith       54171 non-null  object \n",
      " 13  ToolsTechWantToWorkWith       46566 non-null  object \n",
      " 14  NEWCollabToolsHaveWorkedWith  70347 non-null  object \n",
      " 15  NEWCollabToolsWantToWorkWith  64108 non-null  object \n",
      " 16  Employment                    71709 non-null  object \n",
      " 17  RemoteWork                    58958 non-null  object \n",
      " 18  MainBranch                    73268 non-null  object \n",
      " 19  CodingActivities              58899 non-null  object \n",
      " 20  ProfessionalTech              34906 non-null  object \n",
      " 21  LearnCode                     71580 non-null  object \n",
      " 22  LearnCodeOnline               50685 non-null  object \n",
      " 23  LearnCodeCoursesCert          29389 non-null  object \n",
      " 24  WorkExp                       36769 non-null  float64\n",
      " 25  YearsCode                     71331 non-null  object \n",
      " 26  YearsCodePro                  51833 non-null  object \n",
      " 27  EdLevel                       71571 non-null  object \n",
      " 28  OrgSize                       51039 non-null  object \n",
      " 29  Country                       71771 non-null  object \n",
      " 30  ConvertedCompYearly           38071 non-null  float64\n",
      " 31  Currency                      51264 non-null  object \n",
      " 32  CompTotal                     38422 non-null  float64\n",
      " 33  CompFreq                      44425 non-null  object \n",
      "dtypes: float64(3), object(31)\n",
      "memory usage: 19.0+ MB\n"
     ]
    }
   ],
   "source": [
    "df.info()"
   ]
  },
  {
   "cell_type": "markdown",
   "id": "6c2031a0-3ee5-4460-92fa-74c032d8a501",
   "metadata": {},
   "source": [
    "### Check for Duplictes"
   ]
  },
  {
   "cell_type": "code",
   "execution_count": 12,
   "id": "ea60ff83-6790-4fdc-bc62-ae40f952d16a",
   "metadata": {
    "tags": []
   },
   "outputs": [
    {
     "data": {
      "text/plain": [
       "False    73268\n",
       "dtype: int64"
      ]
     },
     "execution_count": 12,
     "metadata": {},
     "output_type": "execute_result"
    }
   ],
   "source": [
    "# Check for duplicates\n",
    "raw_df.duplicated().value_counts()"
   ]
  },
  {
   "cell_type": "markdown",
   "id": "440628db-2af5-4aa4-ae49-b0615580344c",
   "metadata": {},
   "source": [
    "- **The Dataset contains no duplicate values.**"
   ]
  },
  {
   "cell_type": "markdown",
   "id": "4001b0e3-cb88-4e31-88e0-93c83e204e9a",
   "metadata": {},
   "source": [
    "### Replace Values and Parse"
   ]
  },
  {
   "cell_type": "code",
   "execution_count": 13,
   "id": "b795c572-31b5-4238-8122-d99be3e3ec78",
   "metadata": {
    "tags": []
   },
   "outputs": [],
   "source": [
    "# Replace Text Values in YearsCode and YearsCodePro to numerical and set type to float\n",
    "cols = ['YearsCode','YearsCodePro']\n",
    "REPLACE_YEARS_TEXT = {'Less than 1 year': 0, 'More than 50 years': 51}\n",
    "\n",
    "replace_values(df, cols, REPLACE_YEARS_TEXT, np.float32)"
   ]
  },
  {
   "cell_type": "code",
   "execution_count": 14,
   "id": "a7ff7b76-c2c3-481b-8348-5f4a8daf7a77",
   "metadata": {
    "tags": []
   },
   "outputs": [
    {
     "name": "stdout",
     "output_type": "stream",
     "text": [
      "YearsCode\n",
      "[nan, 14.0, 20.0, 8.0, 15.0, 3.0, 1.0, 6.0, 37.0, 5.0, 12.0, 22.0, 11.0, 4.0, 7.0, 13.0, 36.0, 2.0, 25.0, 10.0, 40.0, 16.0, 27.0, 24.0, 19.0, 9.0, 17.0, 18.0, 26.0, 51.0, 29.0, 30.0, 32.0, 0.0, 48.0, 45.0, 38.0, 39.0, 28.0, 23.0, 43.0, 21.0, 41.0, 35.0, 50.0, 33.0, 31.0, 34.0, 46.0, 44.0, 42.0, 47.0, 49.0]\n",
      "--------------------------\n",
      "\n",
      "YearsCodePro\n",
      "[nan, 5.0, 17.0, 3.0, 6.0, 30.0, 2.0, 10.0, 15.0, 4.0, 22.0, 20.0, 40.0, 9.0, 14.0, 21.0, 7.0, 18.0, 25.0, 8.0, 12.0, 45.0, 1.0, 19.0, 28.0, 24.0, 11.0, 23.0, 0.0, 32.0, 27.0, 16.0, 44.0, 26.0, 37.0, 46.0, 13.0, 31.0, 39.0, 34.0, 38.0, 35.0, 29.0, 42.0, 36.0, 33.0, 43.0, 41.0, 48.0, 50.0, 51.0, 47.0, 49.0]\n",
      "--------------------------\n",
      "\n"
     ]
    }
   ],
   "source": [
    "# Verify your Results\n",
    "for col in cols: \n",
    "    print(col)\n",
    "    print(df[col].unique().tolist())\n",
    "    print('--------------------------')\n",
    "    print()"
   ]
  },
  {
   "cell_type": "markdown",
   "id": "c54b79a5-d938-4c4a-9577-8b785abcc5ed",
   "metadata": {
    "tags": []
   },
   "source": [
    "### Transform Multiple Values Features"
   ]
  },
  {
   "cell_type": "code",
   "execution_count": 15,
   "id": "745b9737-f99a-4ba3-bd13-bdac91c39621",
   "metadata": {
    "tags": []
   },
   "outputs": [],
   "source": [
    "# Split multiple answers in object columns using ';' delimiter\n",
    "cols = ROLE_COL + CORE_COLS + USEFUL_COLS\n",
    "split_values(df, cols, delimiter=';')"
   ]
  },
  {
   "cell_type": "code",
   "execution_count": 16,
   "id": "5709ae76-d2da-49b6-9184-b1e852c28739",
   "metadata": {
    "tags": []
   },
   "outputs": [
    {
     "name": "stdout",
     "output_type": "stream",
     "text": [
      "Educator\n",
      "['Educator']\n",
      "Bash/Shell;JavaScript;Lua;Python;R;SQL\n",
      "['Bash/Shell', 'JavaScript', 'Lua', 'Python', 'R', 'SQL']\n"
     ]
    }
   ],
   "source": [
    "# Verify your Results\n",
    "i = df.sample(1).index[0]\n",
    "print(raw_df['DevType'].iloc[i])\n",
    "print(df['DevType'].iloc[i])\n",
    "\n",
    "print(raw_df['LanguageHaveWorkedWith'].iloc[i])\n",
    "print(df['LanguageHaveWorkedWith'].iloc[i])"
   ]
  },
  {
   "cell_type": "markdown",
   "id": "b14f1e5b-1a4b-4aa7-9195-8e210ac8e212",
   "metadata": {},
   "source": [
    "### Combine Related Features"
   ]
  },
  {
   "cell_type": "code",
   "execution_count": 17,
   "id": "197c1f32-1e85-460f-9d8a-1c63943968b5",
   "metadata": {
    "tags": []
   },
   "outputs": [],
   "source": [
    "# Create two lists of columns that will be combined.\n",
    "cols_1 = ['LanguageHaveWorkedWith',\n",
    "          'DatabaseHaveWorkedWith',\n",
    "          'PlatformHaveWorkedWith',\n",
    "          'WebframeHaveWorkedWith',\n",
    "          'MiscTechHaveWorkedWith',\n",
    "          'ToolsTechHaveWorkedWith',                               \n",
    "          'NEWCollabToolsHaveWorkedWith']\n",
    "\n",
    "cols_2 = ['LanguageWantToWorkWith', \n",
    "          'DatabaseWantToWorkWith',  \n",
    "          'PlatformWantToWorkWith',  \n",
    "          'WebframeWantToWorkWith',  \n",
    "          'MiscTechWantToWorkWith',  \n",
    "          'ToolsTechWantToWorkWith',     \n",
    "          'NEWCollabToolsWantToWorkWith']\n",
    "\n",
    "# create a list containing the new names of the combined column.\n",
    "combined_cols = ['Languages','Databases','Platforms','WebFrameworks','MiscTech','ToolsTech','CollabTools']\n",
    "\n",
    "combine_unique_values(df,cols_1,cols_2, combined_cols)"
   ]
  },
  {
   "cell_type": "code",
   "execution_count": 18,
   "id": "c94dd33c-62e9-4cc9-8d5b-45903db6587b",
   "metadata": {
    "collapsed": true,
    "jupyter": {
     "outputs_hidden": true
    },
    "tags": []
   },
   "outputs": [
    {
     "name": "stdout",
     "output_type": "stream",
     "text": [
      "<class 'pandas.core.frame.DataFrame'>\n",
      "RangeIndex: 73268 entries, 0 to 73267\n",
      "Data columns (total 41 columns):\n",
      " #   Column                        Non-Null Count  Dtype  \n",
      "---  ------                        --------------  -----  \n",
      " 0   DevType                       61302 non-null  object \n",
      " 1   VersionControlSystem          71379 non-null  object \n",
      " 2   LanguageHaveWorkedWith        73268 non-null  object \n",
      " 3   LanguageWantToWorkWith        73268 non-null  object \n",
      " 4   DatabaseHaveWorkedWith        73268 non-null  object \n",
      " 5   DatabaseWantToWorkWith        73268 non-null  object \n",
      " 6   PlatformHaveWorkedWith        73268 non-null  object \n",
      " 7   PlatformWantToWorkWith        73268 non-null  object \n",
      " 8   WebframeHaveWorkedWith        73268 non-null  object \n",
      " 9   WebframeWantToWorkWith        73268 non-null  object \n",
      " 10  MiscTechHaveWorkedWith        73268 non-null  object \n",
      " 11  MiscTechWantToWorkWith        73268 non-null  object \n",
      " 12  ToolsTechHaveWorkedWith       73268 non-null  object \n",
      " 13  ToolsTechWantToWorkWith       73268 non-null  object \n",
      " 14  NEWCollabToolsHaveWorkedWith  73268 non-null  object \n",
      " 15  NEWCollabToolsWantToWorkWith  73268 non-null  object \n",
      " 16  Employment                    71709 non-null  object \n",
      " 17  RemoteWork                    58958 non-null  object \n",
      " 18  MainBranch                    73268 non-null  object \n",
      " 19  CodingActivities              58899 non-null  object \n",
      " 20  ProfessionalTech              34906 non-null  object \n",
      " 21  LearnCode                     71580 non-null  object \n",
      " 22  LearnCodeOnline               50685 non-null  object \n",
      " 23  LearnCodeCoursesCert          29389 non-null  object \n",
      " 24  WorkExp                       36769 non-null  float64\n",
      " 25  YearsCode                     71331 non-null  float32\n",
      " 26  YearsCodePro                  51833 non-null  float32\n",
      " 27  EdLevel                       71571 non-null  object \n",
      " 28  OrgSize                       51039 non-null  object \n",
      " 29  Country                       71771 non-null  object \n",
      " 30  ConvertedCompYearly           38071 non-null  float64\n",
      " 31  Currency                      51264 non-null  object \n",
      " 32  CompTotal                     38422 non-null  float64\n",
      " 33  CompFreq                      44425 non-null  object \n",
      " 34  Languages                     73268 non-null  object \n",
      " 35  Databases                     73268 non-null  object \n",
      " 36  Platforms                     73268 non-null  object \n",
      " 37  WebFrameworks                 73268 non-null  object \n",
      " 38  MiscTech                      73268 non-null  object \n",
      " 39  ToolsTech                     73268 non-null  object \n",
      " 40  CollabTools                   73268 non-null  object \n",
      "dtypes: float32(2), float64(3), object(36)\n",
      "memory usage: 22.4+ MB\n"
     ]
    }
   ],
   "source": [
    "df.info()"
   ]
  },
  {
   "cell_type": "markdown",
   "id": "3416e282-6e4c-445d-8c61-48757336f6aa",
   "metadata": {},
   "source": [
    "### Transform DevType column `labels`\n",
    "1. Remove the rows with missing values `NAN`\n",
    "2. Convert the `DevType` column to dummy variables\n",
    "3. Return every job name and its no. of appearances\n",
    "3. identify non-related jobs `non_tech`\n",
    "4. Remove the columns of non-related jobs\n",
    "5. Remove rows where all tech_jobs = 0"
   ]
  },
  {
   "cell_type": "code",
   "execution_count": 19,
   "id": "127f1763-e37d-4fe4-afe8-daa610047595",
   "metadata": {
    "tags": []
   },
   "outputs": [],
   "source": [
    "# Drop the rows with missing values in DevType Column\n",
    "df.dropna(subset=['DevType'], inplace= True)"
   ]
  },
  {
   "cell_type": "markdown",
   "id": "5607b77e-aff1-4f56-ae99-4843d985cd2b",
   "metadata": {},
   "source": [
    "- **11966 Rows Removed**"
   ]
  },
  {
   "cell_type": "code",
   "execution_count": 20,
   "id": "721c3da2-e405-476d-b5dc-17537461cb35",
   "metadata": {
    "tags": []
   },
   "outputs": [],
   "source": [
    "# Use MultMultiLabelBinarizer instead of OneOneHotEncoder because we are dealing with iterable of iterables\n",
    "# Also it is alot faster\n",
    "from sklearn.preprocessing import MultiLabelBinarizer\n",
    "\n",
    "mlb = MultiLabelBinarizer()\n",
    "#fit_Transform the DevType column\n",
    "mlb_DevType = mlb.fit_transform(df['DevType'])\n",
    "\n",
    "\n",
    "# temp_df1 = pd.get_dummies(temp_df.apply(pd.Series).stack(), prefix='DevType').groupby(level=0).max()"
   ]
  },
  {
   "cell_type": "code",
   "execution_count": 21,
   "id": "d84f8eac-ca25-409c-9132-fba5ee0ed18b",
   "metadata": {
    "tags": []
   },
   "outputs": [],
   "source": [
    "# Transform the dense matrix to a dataframe\n",
    "df_mlb_DevType = pd.DataFrame(mlb_DevType, columns= mlb.classes_, index = df.index)"
   ]
  },
  {
   "cell_type": "code",
   "execution_count": 22,
   "id": "3d99814e-251d-4380-8f78-4d0fe18e42a4",
   "metadata": {
    "tags": []
   },
   "outputs": [],
   "source": [
    "# merge the original dataset with the one_hot encoded DevType column\n",
    "encoded_df = pd.concat([df_mlb_DevType,df],axis = 1)"
   ]
  },
  {
   "cell_type": "code",
   "execution_count": 23,
   "id": "48106acc-4ebf-4e72-a1f7-fb0b9b661fbd",
   "metadata": {
    "collapsed": true,
    "jupyter": {
     "outputs_hidden": true
    },
    "tags": []
   },
   "outputs": [
    {
     "name": "stdout",
     "output_type": "stream",
     "text": [
      "<class 'pandas.core.frame.DataFrame'>\n",
      "Int64Index: 61302 entries, 2 to 73267\n",
      "Data columns (total 70 columns):\n",
      " #   Column                                         Non-Null Count  Dtype  \n",
      "---  ------                                         --------------  -----  \n",
      " 0   Academic researcher                            61302 non-null  int32  \n",
      " 1   Blockchain                                     61302 non-null  int32  \n",
      " 2   Cloud infrastructure engineer                  61302 non-null  int32  \n",
      " 3   Data or business analyst                       61302 non-null  int32  \n",
      " 4   Data scientist or machine learning specialist  61302 non-null  int32  \n",
      " 5   Database administrator                         61302 non-null  int32  \n",
      " 6   Designer                                       61302 non-null  int32  \n",
      " 7   DevOps specialist                              61302 non-null  int32  \n",
      " 8   Developer, QA or test                          61302 non-null  int32  \n",
      " 9   Developer, back-end                            61302 non-null  int32  \n",
      " 10  Developer, desktop or enterprise applications  61302 non-null  int32  \n",
      " 11  Developer, embedded applications or devices    61302 non-null  int32  \n",
      " 12  Developer, front-end                           61302 non-null  int32  \n",
      " 13  Developer, full-stack                          61302 non-null  int32  \n",
      " 14  Developer, game or graphics                    61302 non-null  int32  \n",
      " 15  Developer, mobile                              61302 non-null  int32  \n",
      " 16  Educator                                       61302 non-null  int32  \n",
      " 17  Engineer, data                                 61302 non-null  int32  \n",
      " 18  Engineer, site reliability                     61302 non-null  int32  \n",
      " 19  Engineering manager                            61302 non-null  int32  \n",
      " 20  Marketing or sales professional                61302 non-null  int32  \n",
      " 21  Other (please specify):                        61302 non-null  int32  \n",
      " 22  Product manager                                61302 non-null  int32  \n",
      " 23  Project manager                                61302 non-null  int32  \n",
      " 24  Scientist                                      61302 non-null  int32  \n",
      " 25  Security professional                          61302 non-null  int32  \n",
      " 26  Senior Executive (C-Suite, VP, etc.)           61302 non-null  int32  \n",
      " 27  Student                                        61302 non-null  int32  \n",
      " 28  System administrator                           61302 non-null  int32  \n",
      " 29  DevType                                        61302 non-null  object \n",
      " 30  VersionControlSystem                           61111 non-null  object \n",
      " 31  LanguageHaveWorkedWith                         61302 non-null  object \n",
      " 32  LanguageWantToWorkWith                         61302 non-null  object \n",
      " 33  DatabaseHaveWorkedWith                         61302 non-null  object \n",
      " 34  DatabaseWantToWorkWith                         61302 non-null  object \n",
      " 35  PlatformHaveWorkedWith                         61302 non-null  object \n",
      " 36  PlatformWantToWorkWith                         61302 non-null  object \n",
      " 37  WebframeHaveWorkedWith                         61302 non-null  object \n",
      " 38  WebframeWantToWorkWith                         61302 non-null  object \n",
      " 39  MiscTechHaveWorkedWith                         61302 non-null  object \n",
      " 40  MiscTechWantToWorkWith                         61302 non-null  object \n",
      " 41  ToolsTechHaveWorkedWith                        61302 non-null  object \n",
      " 42  ToolsTechWantToWorkWith                        61302 non-null  object \n",
      " 43  NEWCollabToolsHaveWorkedWith                   61302 non-null  object \n",
      " 44  NEWCollabToolsWantToWorkWith                   61302 non-null  object \n",
      " 45  Employment                                     61302 non-null  object \n",
      " 46  RemoteWork                                     58688 non-null  object \n",
      " 47  MainBranch                                     61302 non-null  object \n",
      " 48  CodingActivities                               58636 non-null  object \n",
      " 49  ProfessionalTech                               34822 non-null  object \n",
      " 50  LearnCode                                      61234 non-null  object \n",
      " 51  LearnCodeOnline                                42740 non-null  object \n",
      " 52  LearnCodeCoursesCert                           25635 non-null  object \n",
      " 53  WorkExp                                        36649 non-null  float64\n",
      " 54  YearsCode                                      61053 non-null  float32\n",
      " 55  YearsCodePro                                   51406 non-null  float32\n",
      " 56  EdLevel                                        61240 non-null  object \n",
      " 57  OrgSize                                        50730 non-null  object \n",
      " 58  Country                                        61302 non-null  object \n",
      " 59  ConvertedCompYearly                            37989 non-null  float64\n",
      " 60  Currency                                       50840 non-null  object \n",
      " 61  CompTotal                                      38322 non-null  float64\n",
      " 62  CompFreq                                       44254 non-null  object \n",
      " 63  Languages                                      61302 non-null  object \n",
      " 64  Databases                                      61302 non-null  object \n",
      " 65  Platforms                                      61302 non-null  object \n",
      " 66  WebFrameworks                                  61302 non-null  object \n",
      " 67  MiscTech                                       61302 non-null  object \n",
      " 68  ToolsTech                                      61302 non-null  object \n",
      " 69  CollabTools                                    61302 non-null  object \n",
      "dtypes: float32(2), float64(3), int32(29), object(36)\n",
      "memory usage: 26.0+ MB\n"
     ]
    }
   ],
   "source": [
    "encoded_df.info()"
   ]
  },
  {
   "cell_type": "code",
   "execution_count": 24,
   "id": "0c26c0d3-dbce-41cf-88d7-578c46fa2290",
   "metadata": {
    "tags": []
   },
   "outputs": [
    {
     "data": {
      "text/plain": [
       "Academic researcher                               2709\n",
       "Blockchain                                        1302\n",
       "Cloud infrastructure engineer                     5283\n",
       "Data or business analyst                          3201\n",
       "Data scientist or machine learning specialist     3424\n",
       "Database administrator                            4934\n",
       "Designer                                          3764\n",
       "DevOps specialist                                 6170\n",
       "Developer, QA or test                             3096\n",
       "Developer, back-end                              26595\n",
       "Developer, desktop or enterprise applications     9546\n",
       "Developer, embedded applications or devices       3923\n",
       "Developer, front-end                             15915\n",
       "Developer, full-stack                            28701\n",
       "Developer, game or graphics                       1837\n",
       "Developer, mobile                                 7634\n",
       "Educator                                          2090\n",
       "Engineer, data                                    3600\n",
       "Engineer, site reliability                        1947\n",
       "Engineering manager                               3574\n",
       "Marketing or sales professional                    518\n",
       "Other (please specify):                           2618\n",
       "Product manager                                   2514\n",
       "Project manager                                   3897\n",
       "Scientist                                         1762\n",
       "Security professional                             1928\n",
       "Senior Executive (C-Suite, VP, etc.)              1805\n",
       "Student                                           5595\n",
       "System administrator                              4908\n",
       "dtype: int64"
      ]
     },
     "execution_count": 24,
     "metadata": {},
     "output_type": "execute_result"
    }
   ],
   "source": [
    "# Return every job name and its no. of appearances\n",
    "dev_type_jobs = mlb.classes_.tolist()\n",
    "encoded_df[dev_type_jobs].sum(axis = 0, numeric_only=True)"
   ]
  },
  {
   "cell_type": "markdown",
   "id": "7bd06df2-dbad-4e6b-9814-ec50da623b1d",
   "metadata": {},
   "source": [
    "- **Identify non-related jobs**\n",
    "    - **`Designer`, `Educator`, `Marketing or sales professional`, `Other (please specify):`,\n",
    "    `Engineer, site reliability`, `Engineering manager`, `Product manager`,\n",
    "    `Project manager`, `Senior Executive (C-Suite, VP, etc.)`, `Student`**"
   ]
  },
  {
   "cell_type": "code",
   "execution_count": 25,
   "id": "752b5133-5bb8-4729-a439-a2bb61d2a456",
   "metadata": {
    "tags": []
   },
   "outputs": [],
   "source": [
    "non_related_jobs = [\n",
    "    'Designer', \n",
    "    'Educator', \n",
    "    'Marketing or sales professional',\n",
    "    'Other (please specify):',\n",
    "    'Engineer, site reliability',\n",
    "    'Engineering manager',\n",
    "    'Product manager',\n",
    "    'Project manager',\n",
    "    'Senior Executive (C-Suite, VP, etc.)',\n",
    "    'Student']"
   ]
  },
  {
   "cell_type": "code",
   "execution_count": 26,
   "id": "c2200800-fab0-4a54-835f-d6c22b8c59bf",
   "metadata": {
    "tags": []
   },
   "outputs": [],
   "source": [
    "# Drop Columns of non_related jobs\n",
    "encoded_df = encoded_df.drop(columns=non_related_jobs, axis = 1)"
   ]
  },
  {
   "cell_type": "code",
   "execution_count": 35,
   "id": "1d9bd2cd-2aef-4c67-b07d-562b9fb1e4cf",
   "metadata": {
    "tags": []
   },
   "outputs": [],
   "source": [
    "# Create a list of tech_jobs columns names\n",
    "Tech_Jobs = list(set(dev_type_jobs) - set(non_related_jobs))"
   ]
  },
  {
   "cell_type": "code",
   "execution_count": 56,
   "id": "ac967b22-6829-4a46-ae08-d3b6fecbd8aa",
   "metadata": {
    "tags": []
   },
   "outputs": [],
   "source": [
    "# Remove Rows where all Tech_Jobs = 0\n",
    "encoded_df = encoded_df[~encoded_df[Tech_Jobs].eq(0).all(axis=1)]"
   ]
  },
  {
   "cell_type": "markdown",
   "id": "ba7d41ad-6ba0-4e58-8e2f-7e7f9508bf12",
   "metadata": {},
   "source": [
    "### Export Data"
   ]
  },
  {
   "cell_type": "code",
   "execution_count": 64,
   "id": "301f55d6-e4aa-424e-bac7-414941ef5b92",
   "metadata": {
    "tags": []
   },
   "outputs": [],
   "source": [
    "# Create a dataframe with preprocessed features\n",
    "prep_df = encoded_df[Tech_Jobs + ['VersionControlSystem'] + combined_cols + USEFUL_COLS]"
   ]
  },
  {
   "cell_type": "code",
   "execution_count": 65,
   "id": "bb608089-78dc-4140-8393-db1354fb4f71",
   "metadata": {
    "tags": []
   },
   "outputs": [],
   "source": [
    "# Export the data with pickle\n",
    "prep_df.to_pickle(EXPORT_PATH)"
   ]
  },
  {
   "cell_type": "markdown",
   "id": "586962dd-ce87-41ca-99a3-b3ce53348c5b",
   "metadata": {},
   "source": [
    "- **Changes need to be done:**\n",
    "    - **Their might be preprocessing still on both tech jobs and core_cols (outliers, missing values)**\n",
    "    - **useful features still didn't decide what to do with**"
   ]
  }
 ],
 "metadata": {
  "kernelspec": {
   "display_name": "Python 3 (ipykernel)",
   "language": "python",
   "name": "python3"
  },
  "language_info": {
   "codemirror_mode": {
    "name": "ipython",
    "version": 3
   },
   "file_extension": ".py",
   "mimetype": "text/x-python",
   "name": "python",
   "nbconvert_exporter": "python",
   "pygments_lexer": "ipython3",
   "version": "3.11.4"
  }
 },
 "nbformat": 4,
 "nbformat_minor": 5
}
