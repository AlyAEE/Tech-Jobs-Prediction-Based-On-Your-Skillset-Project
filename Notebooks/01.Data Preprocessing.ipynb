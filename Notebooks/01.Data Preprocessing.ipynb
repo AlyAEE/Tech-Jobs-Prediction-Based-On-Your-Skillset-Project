{
 "cells": [
  {
   "cell_type": "markdown",
   "id": "37b2a30f-9cc3-40f4-9346-0e267aa2a5c7",
   "metadata": {},
   "source": [
    "# Data Preprocessing"
   ]
  },
  {
   "cell_type": "code",
   "execution_count": 92,
   "id": "406e0b37-1dcb-4491-9aee-ac584f9a282f",
   "metadata": {
    "tags": []
   },
   "outputs": [],
   "source": [
    "# Constants\n",
    "DATA_PATH   = \"../Data/Raw/survey_results_public2022.csv\"\n",
    "EXPORT_PATH = \"../Data/Processed/1_preprocessed_df.pkl\"\n",
    "\n",
    "Role_col = ['DevType']\n",
    "core_cols = [\n",
    "             'VersionControlSystem',  'VCInteraction',  \n",
    "             'LanguageHaveWorkedWith',  'LanguageWantToWorkWith',  \n",
    "             'DatabaseHaveWorkedWith',  'DatabaseWantToWorkWith',  \n",
    "             'PlatformHaveWorkedWith',  'PlatformWantToWorkWith',  \n",
    "             'WebframeHaveWorkedWith',  'WebframeWantToWorkWith',  \n",
    "             'MiscTechHaveWorkedWith','MiscTechWantToWorkWit',  \n",
    "             'ToolsTechHaveWorkedWith','ToolsTechWantToWorkWith',                                    \n",
    "             'NEWCollabToolsHaveWorkedWith',  'NEWCollabToolsWantToWorkWith'\n",
    "]\n",
    "\n",
    "useful_cols= ['Employment','RemoteWork',\n",
    "              'MainBranch','CodingActivitie','`ProfessionalTech',\n",
    "              'LearnCode', 'LearnCodeOnline', 'LearnCodeCoursesCert'\n",
    "              'WorkExp', 'YearsCode', 'YearsCodePro', 'EdLevel',\n",
    "              'OrgSize', 'Country',\n",
    "              'ConvertedCompYearly', 'Currenc', 'CompTotal', 'CompFreq']"
   ]
  },
  {
   "cell_type": "code",
   "execution_count": 14,
   "id": "971b9ab4-77b3-4f43-8d7b-fb9ed6f8b3f4",
   "metadata": {
    "tags": []
   },
   "outputs": [],
   "source": [
    "# Load packages\n",
    "import pandas as pd \n",
    "import numpy as np\n",
    "import logging\n",
    "import pickle\n",
    "from pathlib import Path"
   ]
  },
  {
   "cell_type": "markdown",
   "id": "4a7b21df-88fe-43b9-855a-769634ede8f0",
   "metadata": {},
   "source": [
    "______"
   ]
  },
  {
   "cell_type": "markdown",
   "id": "4292db41-87ed-4237-ba25-b211ffc2e39e",
   "metadata": {
    "tags": []
   },
   "source": [
    "### Functions"
   ]
  },
  {
   "cell_type": "code",
   "execution_count": 15,
   "id": "62cd3444-05c9-4532-b2b9-3ba86c988892",
   "metadata": {
    "tags": []
   },
   "outputs": [],
   "source": [
    "# Create a Folder named Images to save figures in.\n",
    "IMAGES_PATH = Path.cwd().parent / \"Images\"\n",
    "IMAGES_PATH.mkdir(parents=True, exist_ok=True)\n",
    "\n",
    "def save_fig(fig_id, tight_layout=True, fig_extension=\"png\", resolution=300):\n",
    "    \"\"\"\n",
    "    This functions will save the current figure shown below.\n",
    "    \n",
    "    Args:\n",
    "        fig_id: String Containing the name of the figure.\n",
    "        tight_layout: Boolean to decide whether you want a tight layout or not.\n",
    "        fig_extension: String to decide the type of the figure.\n",
    "        resoultion: Int to decide the resolution of the figure.\n",
    "        \n",
    "    Returns:\n",
    "        None\n",
    "    \"\"\"\n",
    "    path = IMAGES_PATH / f\"{fig_id}.{fig_extension}\"\n",
    "    \n",
    "    if tight_layout:\n",
    "        plt.tight_layout()\n",
    "        \n",
    "    plt.savefig(path, format=fig_extension, dpi=resolution)"
   ]
  },
  {
   "cell_type": "code",
   "execution_count": 16,
   "id": "1f71c27a-bc28-4e20-80bb-4ddc657493ae",
   "metadata": {},
   "outputs": [],
   "source": [
    "def print_unique_values(df, columns):\n",
    "    \"\"\"\n",
    "    Print the unique values for each categorical column and there count in the DataFrame.\n",
    "\n",
    "    Args:\n",
    "        df (DataFrame): DataFrame containing categorical columns.\n",
    "        columns (list): List of column names to loop through.\n",
    "\n",
    "    Returns:\n",
    "        None\n",
    "    \"\"\"\n",
    "    for col in columns:\n",
    "        value_counts = df[col].value_counts().head(5)\n",
    "        unique_count = len(df[col].unique())\n",
    "        print(f\"Unique values of {col}:\\nNo. of Unique values: {unique_count}\\n{value_counts}' \\n\")"
   ]
  },
  {
   "cell_type": "code",
   "execution_count": 94,
   "id": "f9e8d050-dd62-4c03-9517-4b83f88767ff",
   "metadata": {
    "tags": []
   },
   "outputs": [],
   "source": [
    "def replace_values(df, cols, key_value, type):\n",
    "    \"\"\"\n",
    "    Replace the values of a certain column to a desired value and set the column to the desired type\n",
    "    \n",
    "    Args:\n",
    "        df (DataFrame): DataFrame containing columns you want to replace.\n",
    "        cols (list): List of column names to loop through.\n",
    "        key_value (dict): Dictionary contains the original value and new value {'original_value' : 'new_value'}\n",
    "        type : The desired type of column type = np.int32\n",
    "        \n",
    "    Returns:\n",
    "        None\n",
    "        \n",
    "    \"\"\"\n",
    "    # loop through each column and replace the key_value pair\n",
    "    for col in cols:\n",
    "        df[col] = df[col].replace(key_value).astype(type)"
   ]
  },
  {
   "cell_type": "code",
   "execution_count": 124,
   "id": "733a10db-5faf-4943-a682-a96851188b2e",
   "metadata": {
    "tags": []
   },
   "outputs": [],
   "source": [
    "def split_values(df, cols= [], delimiter=','):\n",
    "    \"\"\" \n",
    "    Split multiple values in a single string \n",
    "    to a list of single strings each represnting a single value. \n",
    "\n",
    "    Args:\n",
    "    df (Dataframe): Dataframe contains desired columns\n",
    "    delimiter (string): the delimiter to split on ex: ':' \n",
    "\n",
    "    Returns:\n",
    "        None\n",
    "    \"\"\"\n",
    "    #select only object columns\n",
    "    cols = df.select_dtypes(include='object').columns.tolist()\n",
    "    \n",
    "    # loop through object columns and convert to list on the decided delimiter\n",
    "    for col in cols:\n",
    "        df[col] = df[col].str.split(delimiter)"
   ]
  },
  {
   "cell_type": "markdown",
   "id": "44fc1f2b-1531-42a0-af50-8054dcc03dec",
   "metadata": {},
   "source": [
    "______"
   ]
  },
  {
   "cell_type": "code",
   "execution_count": 127,
   "id": "022e4d66-7135-409c-8847-496b55d72f2e",
   "metadata": {
    "tags": []
   },
   "outputs": [],
   "source": [
    "# Load dataset and make a copy\n",
    "raw_df = pd.read_csv(DATA_PATH)\n",
    "df = raw_df.copy()"
   ]
  },
  {
   "cell_type": "markdown",
   "id": "6c2031a0-3ee5-4460-92fa-74c032d8a501",
   "metadata": {},
   "source": [
    "### Check for Duplictes"
   ]
  },
  {
   "cell_type": "code",
   "execution_count": 128,
   "id": "ea60ff83-6790-4fdc-bc62-ae40f952d16a",
   "metadata": {
    "tags": []
   },
   "outputs": [
    {
     "data": {
      "text/plain": [
       "False    73268\n",
       "dtype: int64"
      ]
     },
     "execution_count": 128,
     "metadata": {},
     "output_type": "execute_result"
    }
   ],
   "source": [
    "# Check for duplicates\n",
    "raw_df.duplicated().value_counts()"
   ]
  },
  {
   "cell_type": "markdown",
   "id": "440628db-2af5-4aa4-ae49-b0615580344c",
   "metadata": {},
   "source": [
    "- **The Dataset contains no duplicate values.**"
   ]
  },
  {
   "cell_type": "markdown",
   "id": "4001b0e3-cb88-4e31-88e0-93c83e204e9a",
   "metadata": {},
   "source": [
    "### Replace Values and Parse"
   ]
  },
  {
   "cell_type": "code",
   "execution_count": 129,
   "id": "b795c572-31b5-4238-8122-d99be3e3ec78",
   "metadata": {
    "tags": []
   },
   "outputs": [],
   "source": [
    "# Replace Text Values in YearsCode and YearsCodePro to numerical and set type to float\n",
    "cols = ['YearsCode','YearsCodePro']\n",
    "REPLACE_YEARS_TEXT = {'Less than 1 year': 0, 'More than 50 years': 51}\n",
    "\n",
    "replace_values(df, cols, REPLACE_YEARS_TEXT, np.float32)"
   ]
  },
  {
   "cell_type": "code",
   "execution_count": 130,
   "id": "a7ff7b76-c2c3-481b-8348-5f4a8daf7a77",
   "metadata": {
    "tags": []
   },
   "outputs": [
    {
     "name": "stdout",
     "output_type": "stream",
     "text": [
      "YearsCode\n",
      "[nan, 14.0, 20.0, 8.0, 15.0, 3.0, 1.0, 6.0, 37.0, 5.0, 12.0, 22.0, 11.0, 4.0, 7.0, 13.0, 36.0, 2.0, 25.0, 10.0, 40.0, 16.0, 27.0, 24.0, 19.0, 9.0, 17.0, 18.0, 26.0, 51.0, 29.0, 30.0, 32.0, 0.0, 48.0, 45.0, 38.0, 39.0, 28.0, 23.0, 43.0, 21.0, 41.0, 35.0, 50.0, 33.0, 31.0, 34.0, 46.0, 44.0, 42.0, 47.0, 49.0]\n",
      "--------------------------\n",
      "\n",
      "YearsCodePro\n",
      "[nan, 5.0, 17.0, 3.0, 6.0, 30.0, 2.0, 10.0, 15.0, 4.0, 22.0, 20.0, 40.0, 9.0, 14.0, 21.0, 7.0, 18.0, 25.0, 8.0, 12.0, 45.0, 1.0, 19.0, 28.0, 24.0, 11.0, 23.0, 0.0, 32.0, 27.0, 16.0, 44.0, 26.0, 37.0, 46.0, 13.0, 31.0, 39.0, 34.0, 38.0, 35.0, 29.0, 42.0, 36.0, 33.0, 43.0, 41.0, 48.0, 50.0, 51.0, 47.0, 49.0]\n",
      "--------------------------\n",
      "\n"
     ]
    }
   ],
   "source": [
    "# Verify your Results\n",
    "for col in cols: \n",
    "    print(col)\n",
    "    print(df[col].unique().tolist())\n",
    "    print('--------------------------')\n",
    "    print()"
   ]
  },
  {
   "cell_type": "markdown",
   "id": "c54b79a5-d938-4c4a-9577-8b785abcc5ed",
   "metadata": {
    "tags": []
   },
   "source": [
    "### Split Multiple Answers"
   ]
  },
  {
   "cell_type": "code",
   "execution_count": 131,
   "id": "745b9737-f99a-4ba3-bd13-bdac91c39621",
   "metadata": {
    "tags": []
   },
   "outputs": [],
   "source": [
    "# Split multiple answers in object columns using ';' delimiter\n",
    "split_values(df, cols =[], delimiter=';')"
   ]
  },
  {
   "cell_type": "code",
   "execution_count": 133,
   "id": "5709ae76-d2da-49b6-9184-b1e852c28739",
   "metadata": {
    "tags": []
   },
   "outputs": [
    {
     "name": "stdout",
     "output_type": "stream",
     "text": [
      "Developer, full-stack;Developer, desktop or enterprise applications;Developer, embedded applications or devices\n",
      "['Developer, full-stack', 'Developer, desktop or enterprise applications', 'Developer, embedded applications or devices']\n",
      "C;C++;Java;Python\n",
      "['C', 'C++', 'Java', 'Python']\n"
     ]
    }
   ],
   "source": [
    "# Verify your Results\n",
    "i = df.sample(1).index[0]\n",
    "print(raw_df['DevType'].iloc[i])\n",
    "print(df['DevType'].iloc[i])\n",
    "\n",
    "print(raw_df['LanguageHaveWorkedWith'].iloc[i])\n",
    "print(df['LanguageHaveWorkedWith'].iloc[i])"
   ]
  },
  {
   "cell_type": "markdown",
   "id": "586962dd-ce87-41ca-99a3-b3ce53348c5b",
   "metadata": {},
   "source": [
    "- **Changes need to be done:**\n",
    "    - **The skills inside the features that end with `HaveWorkedWith` or `WantToWorkWith` need to be combined.** \n",
    "    - **Return the only needed features**"
   ]
  },
  {
   "cell_type": "code",
   "execution_count": 141,
   "id": "76f0039f-62a5-477b-87ee-a0b970adee81",
   "metadata": {
    "tags": []
   },
   "outputs": [],
   "source": [
    "df_1 = df.copy()"
   ]
  },
  {
   "cell_type": "code",
   "execution_count": 146,
   "id": "421c9d6f-a793-485a-87fc-c798e38d2ebe",
   "metadata": {
    "tags": []
   },
   "outputs": [
    {
     "data": {
      "text/html": [
       "<div>\n",
       "<style scoped>\n",
       "    .dataframe tbody tr th:only-of-type {\n",
       "        vertical-align: middle;\n",
       "    }\n",
       "\n",
       "    .dataframe tbody tr th {\n",
       "        vertical-align: top;\n",
       "    }\n",
       "\n",
       "    .dataframe thead th {\n",
       "        text-align: right;\n",
       "    }\n",
       "</style>\n",
       "<table border=\"1\" class=\"dataframe\">\n",
       "  <thead>\n",
       "    <tr style=\"text-align: right;\">\n",
       "      <th></th>\n",
       "      <th>DatabaseWantToWorkWith</th>\n",
       "      <th>DatabaseHaveWorkedWith</th>\n",
       "    </tr>\n",
       "  </thead>\n",
       "  <tbody>\n",
       "    <tr>\n",
       "      <th>0</th>\n",
       "      <td>NaN</td>\n",
       "      <td>NaN</td>\n",
       "    </tr>\n",
       "    <tr>\n",
       "      <th>1</th>\n",
       "      <td>NaN</td>\n",
       "      <td>NaN</td>\n",
       "    </tr>\n",
       "    <tr>\n",
       "      <th>2</th>\n",
       "      <td>[Microsoft SQL Server]</td>\n",
       "      <td>[Microsoft SQL Server]</td>\n",
       "    </tr>\n",
       "    <tr>\n",
       "      <th>3</th>\n",
       "      <td>[Microsoft SQL Server]</td>\n",
       "      <td>[Microsoft SQL Server]</td>\n",
       "    </tr>\n",
       "    <tr>\n",
       "      <th>4</th>\n",
       "      <td>[Cloud Firestore, Elasticsearch, Firebase Real...</td>\n",
       "      <td>[Cloud Firestore, Elasticsearch, Microsoft SQL...</td>\n",
       "    </tr>\n",
       "    <tr>\n",
       "      <th>5</th>\n",
       "      <td>NaN</td>\n",
       "      <td>NaN</td>\n",
       "    </tr>\n",
       "    <tr>\n",
       "      <th>6</th>\n",
       "      <td>[MySQL, Oracle, PostgreSQL]</td>\n",
       "      <td>[Cloud Firestore, MongoDB, Firebase Realtime D...</td>\n",
       "    </tr>\n",
       "    <tr>\n",
       "      <th>7</th>\n",
       "      <td>[Neo4j, PostgreSQL]</td>\n",
       "      <td>[MongoDB, MySQL]</td>\n",
       "    </tr>\n",
       "    <tr>\n",
       "      <th>8</th>\n",
       "      <td>NaN</td>\n",
       "      <td>NaN</td>\n",
       "    </tr>\n",
       "    <tr>\n",
       "      <th>9</th>\n",
       "      <td>NaN</td>\n",
       "      <td>NaN</td>\n",
       "    </tr>\n",
       "  </tbody>\n",
       "</table>\n",
       "</div>"
      ],
      "text/plain": [
       "                              DatabaseWantToWorkWith  \\\n",
       "0                                                NaN   \n",
       "1                                                NaN   \n",
       "2                             [Microsoft SQL Server]   \n",
       "3                             [Microsoft SQL Server]   \n",
       "4  [Cloud Firestore, Elasticsearch, Firebase Real...   \n",
       "5                                                NaN   \n",
       "6                        [MySQL, Oracle, PostgreSQL]   \n",
       "7                                [Neo4j, PostgreSQL]   \n",
       "8                                                NaN   \n",
       "9                                                NaN   \n",
       "\n",
       "                              DatabaseHaveWorkedWith  \n",
       "0                                                NaN  \n",
       "1                                                NaN  \n",
       "2                             [Microsoft SQL Server]  \n",
       "3                             [Microsoft SQL Server]  \n",
       "4  [Cloud Firestore, Elasticsearch, Microsoft SQL...  \n",
       "5                                                NaN  \n",
       "6  [Cloud Firestore, MongoDB, Firebase Realtime D...  \n",
       "7                                   [MongoDB, MySQL]  \n",
       "8                                                NaN  \n",
       "9                                                NaN  "
      ]
     },
     "execution_count": 146,
     "metadata": {},
     "output_type": "execute_result"
    }
   ],
   "source": [
    "df_1[['DatabaseWantToWorkWith','DatabaseHaveWorkedWith']].head(10)"
   ]
  },
  {
   "cell_type": "code",
   "execution_count": 143,
   "id": "db02fe60-31bb-46f1-816a-b98158bb6064",
   "metadata": {
    "tags": []
   },
   "outputs": [],
   "source": [
    "df_1['Databases'] =df_1['DatabaseWantToWorkWith'] + df['DatabaseHaveWorkedWith']"
   ]
  },
  {
   "cell_type": "code",
   "execution_count": 145,
   "id": "0efb784f-186a-4c47-bd98-b1491db85d3e",
   "metadata": {
    "tags": []
   },
   "outputs": [
    {
     "data": {
      "text/plain": [
       "0                                                  NaN\n",
       "1                                                  NaN\n",
       "2         [Microsoft SQL Server, Microsoft SQL Server]\n",
       "3         [Microsoft SQL Server, Microsoft SQL Server]\n",
       "4    [Cloud Firestore, Elasticsearch, Firebase Real...\n",
       "5                                                  NaN\n",
       "6    [MySQL, Oracle, PostgreSQL, Cloud Firestore, M...\n",
       "7                  [Neo4j, PostgreSQL, MongoDB, MySQL]\n",
       "8                                                  NaN\n",
       "9                                                  NaN\n",
       "Name: Databases, dtype: object"
      ]
     },
     "execution_count": 145,
     "metadata": {},
     "output_type": "execute_result"
    }
   ],
   "source": [
    "df_1['Databases'].head(10)"
   ]
  },
  {
   "cell_type": "markdown",
   "id": "e7c3bcbf-caa7-49bb-87c5-7009bf363b78",
   "metadata": {},
   "source": [
    "- **Go through the schema of the survey to identify each feature and the question it asks to identify its importance for our business case**\n",
    "    - **Unuseful features:**\n",
    "        - `ResponseId`, `SurveyEase`, `SurveyLength`\n",
    "        - `TrueFalse_1` to `TrueFalse_3`, `Frequency_1` to `Frequency_3`, `Knowledge_1` to `knowledge_7`\n",
    "        - `Onboarding`, `TimeSearching`, `TimeAnswering`, `ICorPM`, `TBranch`\n",
    "        - `Trans`, `Sexuality`, `Ethnicity`, `Accessibility`, `MentalHealth`, `Age`, `Gender`, `Blockchain`    \n",
    "        - `SOComm`, `NEWSOSites`, `SOVisitFreq`, `SOPartFreq`,`SOAccount`, `BuyNewTool`, `PurchaseInfluence`, \n",
    "        - `OfficeStackAsyncHaveWorkedWith`, `OfficeStackAsyncWantToWorkWith`, `OfficeStackSyncHaveWorkedWith`, `OfficeStackSyncWantToWorkWith`\n",
    "        - `VCHostingPersonal use` , `VCHostingProfessional use`\n",
    "        - `OpSysProfessional use`,  `OpSysPersonal use`,\n",
    "        \n",
    "        \n",
    "    - **Might be useful features:** \n",
    "        - `Employment`,`RemoteWork`,\n",
    "        - `MainBranch`,`CodingActivities`, `ProfessionalTech`,\n",
    "        - `LearnCode`, `LearnCodeOnline`, `LearnCodeCoursesCert`\n",
    "        - `WorkExp`, `YearsCode`, `YearsCodePro`, `EdLevel`,\n",
    "        - `OrgSize`, `Country`,\n",
    "        - `ConvertedCompYearly`, `Currency`, `CompTotal`, `CompFreq`\n",
    "        \n",
    "    - **Core features:** \n",
    "        - `DevType`\n",
    "        - `VersionControlSystem`,  `VCInteraction`,  \n",
    "        - `LanguageHaveWorkedWith`,  `LanguageWantToWorkWith`,  \n",
    "        - `DatabaseHaveWorkedWith`,  `DatabaseWantToWorkWith`,  \n",
    "        - `PlatformHaveWorkedWith`,  `PlatformWantToWorkWith`,  \n",
    "        - `WebframeHaveWorkedWith`,  `WebframeWantToWorkWith`,  \n",
    "        - `MiscTechHaveWorkedWith`,`MiscTechWantToWorkWith`,  \n",
    "        - `ToolsTechHaveWorkedWith`,`ToolsTechWantToWorkWith`,                                    \n",
    "        - `NEWCollabToolsHaveWorkedWith`,  `NEWCollabToolsWantToWorkWith`,  "
   ]
  }
 ],
 "metadata": {
  "kernelspec": {
   "display_name": "Python 3 (ipykernel)",
   "language": "python",
   "name": "python3"
  },
  "language_info": {
   "codemirror_mode": {
    "name": "ipython",
    "version": 3
   },
   "file_extension": ".py",
   "mimetype": "text/x-python",
   "name": "python",
   "nbconvert_exporter": "python",
   "pygments_lexer": "ipython3",
   "version": "3.11.4"
  }
 },
 "nbformat": 4,
 "nbformat_minor": 5
}
