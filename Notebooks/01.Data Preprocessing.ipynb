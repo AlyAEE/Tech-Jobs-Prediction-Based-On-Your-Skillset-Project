{
 "cells": [
  {
   "cell_type": "markdown",
   "id": "37b2a30f-9cc3-40f4-9346-0e267aa2a5c7",
   "metadata": {},
   "source": [
    "# Data Preprocessing"
   ]
  },
  {
   "cell_type": "code",
   "execution_count": 118,
   "id": "406e0b37-1dcb-4491-9aee-ac584f9a282f",
   "metadata": {
    "tags": []
   },
   "outputs": [],
   "source": [
    "# Constants\n",
    "DATA_PATH   = \"../Data/Raw/survey_results_public2022.csv\"\n",
    "EXPORT_PATH = \"../Data/Processed/1_preprocessed_df.pkl\"\n",
    "\n",
    "ROLE_COL = ['DevType']\n",
    "CORE_COLS = [\n",
    "             'VersionControlSystem',  \n",
    "             'LanguageHaveWorkedWith',  'LanguageWantToWorkWith',  \n",
    "             'DatabaseHaveWorkedWith',  'DatabaseWantToWorkWith',  \n",
    "             'PlatformHaveWorkedWith',  'PlatformWantToWorkWith',  \n",
    "             'WebframeHaveWorkedWith',  'WebframeWantToWorkWith',  \n",
    "             'MiscTechHaveWorkedWith','MiscTechWantToWorkWith',  \n",
    "             'ToolsTechHaveWorkedWith','ToolsTechWantToWorkWith',                                    \n",
    "             'NEWCollabToolsHaveWorkedWith',  'NEWCollabToolsWantToWorkWith'\n",
    "]\n",
    "\n",
    "USEFUL_COLS= ['Employment','RemoteWork',\n",
    "              'MainBranch','CodingActivities','ProfessionalTech',\n",
    "              'LearnCode', 'LearnCodeOnline', 'LearnCodeCoursesCert',\n",
    "              'WorkExp', 'YearsCode', 'YearsCodePro', 'EdLevel',\n",
    "              'OrgSize', 'Country',\n",
    "              'ConvertedCompYearly', 'Currency', 'CompTotal', 'CompFreq']"
   ]
  },
  {
   "cell_type": "code",
   "execution_count": 119,
   "id": "971b9ab4-77b3-4f43-8d7b-fb9ed6f8b3f4",
   "metadata": {
    "tags": []
   },
   "outputs": [],
   "source": [
    "# Load packages\n",
    "import pandas as pd \n",
    "import numpy as np\n",
    "import logging\n",
    "import pickle\n",
    "from pathlib import Path"
   ]
  },
  {
   "cell_type": "markdown",
   "id": "4a7b21df-88fe-43b9-855a-769634ede8f0",
   "metadata": {},
   "source": [
    "______"
   ]
  },
  {
   "cell_type": "markdown",
   "id": "4292db41-87ed-4237-ba25-b211ffc2e39e",
   "metadata": {
    "tags": []
   },
   "source": [
    "### Functions"
   ]
  },
  {
   "cell_type": "code",
   "execution_count": 120,
   "id": "62cd3444-05c9-4532-b2b9-3ba86c988892",
   "metadata": {
    "tags": []
   },
   "outputs": [],
   "source": [
    "# Create a Folder named Images to save figures in.\n",
    "IMAGES_PATH = Path.cwd().parent / \"Images\"\n",
    "IMAGES_PATH.mkdir(parents=True, exist_ok=True)\n",
    "\n",
    "def save_fig(fig_id, tight_layout=True, fig_extension=\"png\", resolution=300):\n",
    "    \"\"\"\n",
    "    This functions will save the current figure shown below.\n",
    "    \n",
    "    Args:\n",
    "        fig_id: String Containing the name of the figure.\n",
    "        tight_layout: Boolean to decide whether you want a tight layout or not.\n",
    "        fig_extension: String to decide the type of the figure.\n",
    "        resoultion: Int to decide the resolution of the figure.\n",
    "        \n",
    "    Returns:\n",
    "        None\n",
    "    \"\"\"\n",
    "    path = IMAGES_PATH / f\"{fig_id}.{fig_extension}\"\n",
    "    \n",
    "    if tight_layout:\n",
    "        plt.tight_layout()\n",
    "        \n",
    "    plt.savefig(path, format=fig_extension, dpi=resolution)"
   ]
  },
  {
   "cell_type": "code",
   "execution_count": 121,
   "id": "1f71c27a-bc28-4e20-80bb-4ddc657493ae",
   "metadata": {},
   "outputs": [],
   "source": [
    "def print_unique_values(df, columns):\n",
    "    \"\"\"\n",
    "    Print the unique values for each categorical column and there count in the DataFrame.\n",
    "\n",
    "    Args:\n",
    "        df (DataFrame): DataFrame containing categorical columns.\n",
    "        columns (list): List of column names to loop through.\n",
    "\n",
    "    Returns:\n",
    "        None\n",
    "    \"\"\"\n",
    "    for col in columns:\n",
    "        value_counts = df[col].value_counts().head(5)\n",
    "        unique_count = len(df[col].unique())\n",
    "        print(f\"Unique values of {col}:\\nNo. of Unique values: {unique_count}\\n{value_counts}' \\n\")"
   ]
  },
  {
   "cell_type": "code",
   "execution_count": 122,
   "id": "f9e8d050-dd62-4c03-9517-4b83f88767ff",
   "metadata": {
    "tags": []
   },
   "outputs": [],
   "source": [
    "def replace_values(df, cols, key_value, type):\n",
    "    \"\"\"\n",
    "    Replace the values of a certain column to a desired value and set the column to the desired type\n",
    "    \n",
    "    Args:\n",
    "        df (DataFrame): DataFrame containing columns you want to replace.\n",
    "        cols (list): List of column names to loop through.\n",
    "        key_value (dict): Dictionary contains the original value and new value {'original_value' : 'new_value'}\n",
    "        type : The desired type of column type = np.int32\n",
    "        \n",
    "    Returns:\n",
    "        None\n",
    "        \n",
    "    \"\"\"\n",
    "    # loop through each column and replace the key_value pair\n",
    "    for col in cols:\n",
    "        df[col] = df[col].replace(key_value).astype(type)"
   ]
  },
  {
   "cell_type": "code",
   "execution_count": 123,
   "id": "733a10db-5faf-4943-a682-a96851188b2e",
   "metadata": {
    "tags": []
   },
   "outputs": [],
   "source": [
    "def split_values(df, cols= [], delimiter=','):\n",
    "    \"\"\" \n",
    "    Split multiple values in a single string \n",
    "    to a list of single strings each represnting a single value. \n",
    "\n",
    "    Args:\n",
    "    df (Dataframe): Dataframe contains desired columns\n",
    "    delimiter (string): the delimiter to split on ex: ':' \n",
    "\n",
    "    Returns:\n",
    "        None\n",
    "    \"\"\"\n",
    "    #select only object columns\n",
    "    cols = df[cols].select_dtypes(include='object').columns.tolist()\n",
    "    \n",
    "    # loop through object columns and convert to list on the decided delimiter\n",
    "    for col in cols:\n",
    "        df[col] = df[col].str.split(delimiter)"
   ]
  },
  {
   "cell_type": "code",
   "execution_count": 211,
   "id": "0f2cc8f3-1057-42f0-8275-3dbeb7d2df48",
   "metadata": {
    "tags": []
   },
   "outputs": [],
   "source": [
    "def combine_unique_values(df, cols_1, cols_2 , combined_cols):\n",
    "    \"\"\"\n",
    "    Combine related Columns and return unique values\n",
    "    \n",
    "    Args:\n",
    "    df (Dataframe): Dataframe contains desired columns\n",
    "    cols_1, cols_2 (List): Columns need to be combined \n",
    "    combined_cols (list): The new combined Columns\n",
    "    \"\"\"\n",
    "    # change the NAN values to [] to avoid errors\n",
    "    df[cols_1 + cols_2] = df[cols_1 + cols_2].applymap(lambda x: x if isinstance(x, list) else [])\n",
    "    \n",
    "    #loop through the cols\n",
    "    for i in range(len(cols_1)):\n",
    "        # create a lambda function to combine each row and return unique values\n",
    "        combine_lists_unique = lambda row: list(set(row[cols_1[i]] + row[cols_2[i]]))\n",
    "\n",
    "        # implement the lambda function using apply method and return the new combined column\n",
    "        df[combined_cols[i]] = df.apply(combine_lists_unique, axis=1)"
   ]
  },
  {
   "cell_type": "markdown",
   "id": "44fc1f2b-1531-42a0-af50-8054dcc03dec",
   "metadata": {},
   "source": [
    "______"
   ]
  },
  {
   "cell_type": "code",
   "execution_count": 124,
   "id": "022e4d66-7135-409c-8847-496b55d72f2e",
   "metadata": {
    "tags": []
   },
   "outputs": [],
   "source": [
    "# Load dataset and make a copy\n",
    "raw_df = pd.read_csv(DATA_PATH)\n",
    "df = raw_df.copy()"
   ]
  },
  {
   "cell_type": "markdown",
   "id": "6c2031a0-3ee5-4460-92fa-74c032d8a501",
   "metadata": {},
   "source": [
    "### Check for Duplictes"
   ]
  },
  {
   "cell_type": "code",
   "execution_count": 125,
   "id": "ea60ff83-6790-4fdc-bc62-ae40f952d16a",
   "metadata": {
    "tags": []
   },
   "outputs": [
    {
     "data": {
      "text/plain": [
       "False    73268\n",
       "dtype: int64"
      ]
     },
     "execution_count": 125,
     "metadata": {},
     "output_type": "execute_result"
    }
   ],
   "source": [
    "# Check for duplicates\n",
    "raw_df.duplicated().value_counts()"
   ]
  },
  {
   "cell_type": "markdown",
   "id": "440628db-2af5-4aa4-ae49-b0615580344c",
   "metadata": {},
   "source": [
    "- **The Dataset contains no duplicate values.**"
   ]
  },
  {
   "cell_type": "markdown",
   "id": "4001b0e3-cb88-4e31-88e0-93c83e204e9a",
   "metadata": {},
   "source": [
    "### Replace Values and Parse"
   ]
  },
  {
   "cell_type": "code",
   "execution_count": 126,
   "id": "b795c572-31b5-4238-8122-d99be3e3ec78",
   "metadata": {
    "tags": []
   },
   "outputs": [],
   "source": [
    "# Replace Text Values in YearsCode and YearsCodePro to numerical and set type to float\n",
    "cols = ['YearsCode','YearsCodePro']\n",
    "REPLACE_YEARS_TEXT = {'Less than 1 year': 0, 'More than 50 years': 51}\n",
    "\n",
    "replace_values(df, cols, REPLACE_YEARS_TEXT, np.float32)"
   ]
  },
  {
   "cell_type": "code",
   "execution_count": 127,
   "id": "a7ff7b76-c2c3-481b-8348-5f4a8daf7a77",
   "metadata": {
    "tags": []
   },
   "outputs": [
    {
     "name": "stdout",
     "output_type": "stream",
     "text": [
      "YearsCode\n",
      "[nan, 14.0, 20.0, 8.0, 15.0, 3.0, 1.0, 6.0, 37.0, 5.0, 12.0, 22.0, 11.0, 4.0, 7.0, 13.0, 36.0, 2.0, 25.0, 10.0, 40.0, 16.0, 27.0, 24.0, 19.0, 9.0, 17.0, 18.0, 26.0, 51.0, 29.0, 30.0, 32.0, 0.0, 48.0, 45.0, 38.0, 39.0, 28.0, 23.0, 43.0, 21.0, 41.0, 35.0, 50.0, 33.0, 31.0, 34.0, 46.0, 44.0, 42.0, 47.0, 49.0]\n",
      "--------------------------\n",
      "\n",
      "YearsCodePro\n",
      "[nan, 5.0, 17.0, 3.0, 6.0, 30.0, 2.0, 10.0, 15.0, 4.0, 22.0, 20.0, 40.0, 9.0, 14.0, 21.0, 7.0, 18.0, 25.0, 8.0, 12.0, 45.0, 1.0, 19.0, 28.0, 24.0, 11.0, 23.0, 0.0, 32.0, 27.0, 16.0, 44.0, 26.0, 37.0, 46.0, 13.0, 31.0, 39.0, 34.0, 38.0, 35.0, 29.0, 42.0, 36.0, 33.0, 43.0, 41.0, 48.0, 50.0, 51.0, 47.0, 49.0]\n",
      "--------------------------\n",
      "\n"
     ]
    }
   ],
   "source": [
    "# Verify your Results\n",
    "for col in cols: \n",
    "    print(col)\n",
    "    print(df[col].unique().tolist())\n",
    "    print('--------------------------')\n",
    "    print()"
   ]
  },
  {
   "cell_type": "markdown",
   "id": "c54b79a5-d938-4c4a-9577-8b785abcc5ed",
   "metadata": {
    "tags": []
   },
   "source": [
    "### Transform Multiple Values Features"
   ]
  },
  {
   "cell_type": "code",
   "execution_count": 128,
   "id": "745b9737-f99a-4ba3-bd13-bdac91c39621",
   "metadata": {
    "tags": []
   },
   "outputs": [],
   "source": [
    "# Split multiple answers in object columns using ';' delimiter\n",
    "cols = ROLE_COL + CORE_COLS + USEFUL_COLS\n",
    "split_values(df, cols, delimiter=';')"
   ]
  },
  {
   "cell_type": "code",
   "execution_count": 129,
   "id": "5709ae76-d2da-49b6-9184-b1e852c28739",
   "metadata": {
    "tags": []
   },
   "outputs": [
    {
     "name": "stdout",
     "output_type": "stream",
     "text": [
      "Educator;Academic researcher\n",
      "['Educator', 'Academic researcher']\n",
      "Fortran;Python\n",
      "['Fortran', 'Python']\n"
     ]
    }
   ],
   "source": [
    "# Verify your Results\n",
    "i = df.sample(1).index[0]\n",
    "print(raw_df['DevType'].iloc[i])\n",
    "print(df['DevType'].iloc[i])\n",
    "\n",
    "print(raw_df['LanguageHaveWorkedWith'].iloc[i])\n",
    "print(df['LanguageHaveWorkedWith'].iloc[i])"
   ]
  },
  {
   "cell_type": "markdown",
   "id": "b14f1e5b-1a4b-4aa7-9195-8e210ac8e212",
   "metadata": {},
   "source": [
    "### Combine Related Features"
   ]
  },
  {
   "cell_type": "code",
   "execution_count": 209,
   "id": "197c1f32-1e85-460f-9d8a-1c63943968b5",
   "metadata": {
    "tags": []
   },
   "outputs": [],
   "source": [
    "# Create two lists of columns that will be combined.\n",
    "cols_1 = ['LanguageHaveWorkedWith',\n",
    "          'DatabaseHaveWorkedWith',\n",
    "          'PlatformHaveWorkedWith',\n",
    "          'WebframeHaveWorkedWith',\n",
    "          'MiscTechHaveWorkedWith',\n",
    "          'ToolsTechHaveWorkedWith',                               \n",
    "          'NEWCollabToolsHaveWorkedWith']\n",
    "\n",
    "cols_2 = ['LanguageWantToWorkWith', \n",
    "          'DatabaseWantToWorkWith',  \n",
    "          'PlatformWantToWorkWith',  \n",
    "          'WebframeWantToWorkWith',  \n",
    "          'MiscTechWantToWorkWith',  \n",
    "          'ToolsTechWantToWorkWith',     \n",
    "          'NEWCollabToolsWantToWorkWith']\n",
    "\n",
    "# create a list containing the new names of the combined column.\n",
    "combined_cols = ['Languages','Databases','Platforms','WebFrameworks','MiscTech','ToolsTech','CollabTools']\n",
    "\n",
    "combine_unique_values(df,cols_1,cols_2, combined_cols)"
   ]
  },
  {
   "cell_type": "code",
   "execution_count": 213,
   "id": "2a8726a9-24c7-41f4-b9c6-e29a6e239ac7",
   "metadata": {
    "tags": []
   },
   "outputs": [
    {
     "name": "stdout",
     "output_type": "stream",
     "text": [
      "<class 'pandas.core.frame.DataFrame'>\n",
      "RangeIndex: 73268 entries, 0 to 73267\n",
      "Data columns (total 86 columns):\n",
      " #   Column                          Non-Null Count  Dtype  \n",
      "---  ------                          --------------  -----  \n",
      " 0   ResponseId                      73268 non-null  int64  \n",
      " 1   MainBranch                      73268 non-null  object \n",
      " 2   Employment                      71709 non-null  object \n",
      " 3   RemoteWork                      58958 non-null  object \n",
      " 4   CodingActivities                58899 non-null  object \n",
      " 5   EdLevel                         71571 non-null  object \n",
      " 6   LearnCode                       71580 non-null  object \n",
      " 7   LearnCodeOnline                 50685 non-null  object \n",
      " 8   LearnCodeCoursesCert            29389 non-null  object \n",
      " 9   YearsCode                       71331 non-null  float32\n",
      " 10  YearsCodePro                    51833 non-null  float32\n",
      " 11  DevType                         61302 non-null  object \n",
      " 12  OrgSize                         51039 non-null  object \n",
      " 13  PurchaseInfluence               50969 non-null  object \n",
      " 14  BuyNewTool                      67963 non-null  object \n",
      " 15  Country                         71771 non-null  object \n",
      " 16  Currency                        51264 non-null  object \n",
      " 17  CompTotal                       38422 non-null  float64\n",
      " 18  CompFreq                        44425 non-null  object \n",
      " 19  LanguageHaveWorkedWith          73268 non-null  object \n",
      " 20  LanguageWantToWorkWith          73268 non-null  object \n",
      " 21  DatabaseHaveWorkedWith          73268 non-null  object \n",
      " 22  DatabaseWantToWorkWith          73268 non-null  object \n",
      " 23  PlatformHaveWorkedWith          73268 non-null  object \n",
      " 24  PlatformWantToWorkWith          73268 non-null  object \n",
      " 25  WebframeHaveWorkedWith          73268 non-null  object \n",
      " 26  WebframeWantToWorkWith          73268 non-null  object \n",
      " 27  MiscTechHaveWorkedWith          73268 non-null  object \n",
      " 28  MiscTechWantToWorkWith          73268 non-null  object \n",
      " 29  ToolsTechHaveWorkedWith         73268 non-null  object \n",
      " 30  ToolsTechWantToWorkWith         73268 non-null  object \n",
      " 31  NEWCollabToolsHaveWorkedWith    73268 non-null  object \n",
      " 32  NEWCollabToolsWantToWorkWith    73268 non-null  object \n",
      " 33  OpSysProfessional use           65503 non-null  object \n",
      " 34  OpSysPersonal use               70963 non-null  object \n",
      " 35  VersionControlSystem            71379 non-null  object \n",
      " 36  VCInteraction                   68156 non-null  object \n",
      " 37  VCHostingPersonal use           0 non-null      float64\n",
      " 38  VCHostingProfessional use       0 non-null      float64\n",
      " 39  OfficeStackAsyncHaveWorkedWith  46223 non-null  object \n",
      " 40  OfficeStackAsyncWantToWorkWith  32072 non-null  object \n",
      " 41  OfficeStackSyncHaveWorkedWith   62128 non-null  object \n",
      " 42  OfficeStackSyncWantToWorkWith   47688 non-null  object \n",
      " 43  Blockchain                      71071 non-null  object \n",
      " 44  NEWSOSites                      71365 non-null  object \n",
      " 45  SOVisitFreq                     70961 non-null  object \n",
      " 46  SOAccount                       71572 non-null  object \n",
      " 47  SOPartFreq                      58229 non-null  object \n",
      " 48  SOComm                          71408 non-null  object \n",
      " 49  Age                             70946 non-null  object \n",
      " 50  Gender                          70853 non-null  object \n",
      " 51  Trans                           70315 non-null  object \n",
      " 52  Sexuality                       66565 non-null  object \n",
      " 53  Ethnicity                       69474 non-null  object \n",
      " 54  Accessibility                   67244 non-null  object \n",
      " 55  MentalHealth                    66447 non-null  object \n",
      " 56  TBranch                         52670 non-null  object \n",
      " 57  ICorPM                          36283 non-null  object \n",
      " 58  WorkExp                         36769 non-null  float64\n",
      " 59  Knowledge_1                     35804 non-null  object \n",
      " 60  Knowledge_2                     34973 non-null  object \n",
      " 61  Knowledge_3                     35133 non-null  object \n",
      " 62  Knowledge_4                     35097 non-null  object \n",
      " 63  Knowledge_5                     35014 non-null  object \n",
      " 64  Knowledge_6                     34991 non-null  object \n",
      " 65  Knowledge_7                     34977 non-null  object \n",
      " 66  Frequency_1                     35371 non-null  object \n",
      " 67  Frequency_2                     35344 non-null  object \n",
      " 68  Frequency_3                     34515 non-null  object \n",
      " 69  TimeSearching                   36198 non-null  object \n",
      " 70  TimeAnswering                   36022 non-null  object \n",
      " 71  Onboarding                      35679 non-null  object \n",
      " 72  ProfessionalTech                34906 non-null  object \n",
      " 73  TrueFalse_1                     35819 non-null  object \n",
      " 74  TrueFalse_2                     35715 non-null  object \n",
      " 75  TrueFalse_3                     35749 non-null  object \n",
      " 76  SurveyLength                    70444 non-null  object \n",
      " 77  SurveyEase                      70508 non-null  object \n",
      " 78  ConvertedCompYearly             38071 non-null  float64\n",
      " 79  Languages                       73268 non-null  object \n",
      " 80  Databases                       73268 non-null  object \n",
      " 81  Platforms                       73268 non-null  object \n",
      " 82  WebFrameworks                   73268 non-null  object \n",
      " 83  MiscTech                        73268 non-null  object \n",
      " 84  ToolsTech                       73268 non-null  object \n",
      " 85  CollabTools                     73268 non-null  object \n",
      "dtypes: float32(2), float64(5), int64(1), object(78)\n",
      "memory usage: 47.5+ MB\n"
     ]
    }
   ],
   "source": [
    "df.info()"
   ]
  },
  {
   "cell_type": "markdown",
   "id": "e7c3bcbf-caa7-49bb-87c5-7009bf363b78",
   "metadata": {},
   "source": [
    "- **Go through the schema of the survey to identify each feature and the question it asks to identify its importance for our business case**\n",
    "    - **Unuseful features:**\n",
    "        - `ResponseId`, `SurveyEase`, `SurveyLength`\n",
    "        - `TrueFalse_1` to `TrueFalse_3`, `Frequency_1` to `Frequency_3`, `Knowledge_1` to `knowledge_7`\n",
    "        - `Onboarding`, `TimeSearching`, `TimeAnswering`, `ICorPM`, `TBranch`\n",
    "        - `Trans`, `Sexuality`, `Ethnicity`, `Accessibility`, `MentalHealth`, `Age`, `Gender`, `Blockchain`    \n",
    "        - `SOComm`, `NEWSOSites`, `SOVisitFreq`, `SOPartFreq`,`SOAccount`, `BuyNewTool`, `PurchaseInfluence`, \n",
    "        - `OfficeStackAsyncHaveWorkedWith`, `OfficeStackAsyncWantToWorkWith`, `OfficeStackSyncHaveWorkedWith`, `OfficeStackSyncWantToWorkWith`\n",
    "        - `VCInteraction`,`VCHostingPersonal use` , `VCHostingProfessional use`\n",
    "        - `OpSysProfessional use`,  `OpSysPersonal use`,\n",
    "        \n",
    "        \n",
    "    - **Might be useful features:** \n",
    "        - `Employment`,`RemoteWork`,\n",
    "        - `MainBranch`,`CodingActivities`, `ProfessionalTech`,\n",
    "        - `LearnCode`, `LearnCodeOnline`, `LearnCodeCoursesCert`\n",
    "        - `WorkExp`, `YearsCode`, `YearsCodePro`, `EdLevel`,\n",
    "        - `OrgSize`, `Country`,\n",
    "        - `ConvertedCompYearly`, `Currency`, `CompTotal`, `CompFreq`\n",
    "        \n",
    "    - **Core features:** \n",
    "        - `DevType`\n",
    "        - `VersionControlSystem`,   \n",
    "        - `LanguageHaveWorkedWith`,  `LanguageWantToWorkWith`,  \n",
    "        - `DatabaseHaveWorkedWith`,  `DatabaseWantToWorkWith`,  \n",
    "        - `PlatformHaveWorkedWith`,  `PlatformWantToWorkWith`,  \n",
    "        - `WebframeHaveWorkedWith`,  `WebframeWantToWorkWith`,  \n",
    "        - `MiscTechHaveWorkedWith`,`MiscTechWantToWorkWith`,  \n",
    "        - `ToolsTechHaveWorkedWith`,`ToolsTechWantToWorkWith`,                                    \n",
    "        - `NEWCollabToolsHaveWorkedWith`,  `NEWCollabToolsWantToWorkWith`,  "
   ]
  },
  {
   "cell_type": "markdown",
   "id": "586962dd-ce87-41ca-99a3-b3ce53348c5b",
   "metadata": {},
   "source": [
    "- **Changes need to be done:**\n",
    "\n",
    "    - **Get rid of useless features, Coreroles except version control column, Return the only needed features**"
   ]
  }
 ],
 "metadata": {
  "kernelspec": {
   "display_name": "Python 3 (ipykernel)",
   "language": "python",
   "name": "python3"
  },
  "language_info": {
   "codemirror_mode": {
    "name": "ipython",
    "version": 3
   },
   "file_extension": ".py",
   "mimetype": "text/x-python",
   "name": "python",
   "nbconvert_exporter": "python",
   "pygments_lexer": "ipython3",
   "version": "3.11.4"
  }
 },
 "nbformat": 4,
 "nbformat_minor": 5
}
