{
 "cells": [
  {
   "cell_type": "markdown",
   "id": "a4394494-8b85-4ef7-a0ca-ab772a82fee8",
   "metadata": {},
   "source": [
    "# Business Understanding"
   ]
  },
  {
   "cell_type": "markdown",
   "id": "ae095544-98a0-4010-94db-29ce3f353bbc",
   "metadata": {},
   "source": [
    "## Overview of The Business Problem\n",
    "- **Our client is an IT educational institute. They have reached out to us has reach out with the following:**\n",
    "\n",
    "    - **IT jobs and technologies keep evolving quickly. This makes our field to be one of the most interesting out there. But on the other hand, such fast development confuses our students. They do not know which skills they need to learn for which job.**\n",
    "\n",
    "    - `Do I need to learn C++ to be a Data Scientist?`\n",
    "    - `Do DevOps and System admins use the same technologies?` \n",
    "    - `I really like JavaScript; can I use it in Data Analytics?`"
   ]
  },
  {
   "cell_type": "markdown",
   "id": "351ab87d-0709-4fdd-8efe-abcf3d8f7a80",
   "metadata": {
    "tags": []
   },
   "source": [
    "## Business Objective\n",
    "- **Develop a Data-Driven solution for our students to answer such questions.**\n",
    "- **Understand the relationships between the jobs and the technologies.**"
   ]
  },
  {
   "cell_type": "markdown",
   "id": "b5e9c325-d0b8-48e1-af49-5514b4a5cfeb",
   "metadata": {},
   "source": [
    "## KPIs\n",
    "- **Higher enrollment rate due to higher certainty** \n",
    "- **Decrease in drop-out rate**\n",
    "- **Time saved for the academic advisors**"
   ]
  },
  {
   "cell_type": "markdown",
   "id": "1797da51-1855-4d11-b656-a2f40596898f",
   "metadata": {},
   "source": [
    "## How How will your solution be used? "
   ]
  },
  {
   "cell_type": "markdown",
   "id": "5769e0e3-e408-4472-ba9f-18f709b6d317",
   "metadata": {},
   "source": [
    "## Current Solution"
   ]
  },
  {
   "cell_type": "markdown",
   "id": "6627a55f-9a58-4c3e-8324-3cace6492f53",
   "metadata": {},
   "source": [
    "## Frame the Problem\n",
    "- How should you frame this problem (supervised/unsupervised, online/offline, etc.)"
   ]
  },
  {
   "cell_type": "markdown",
   "id": "306a3590-5c39-4e09-8c20-ce6afd8f41d5",
   "metadata": {},
   "source": [
    "## Performance Measure\n",
    "Since we are dealing with a classification problem, We can use **Accuracy, Confusion matrix, Precision, Recall, F1-score** <br>\n",
    "Incase of a imblanced dataset, **Accuracy** won't be a good option. <br>"
   ]
  },
  {
   "cell_type": "markdown",
   "id": "9ed508c1-4ab7-4665-bac8-659208335626",
   "metadata": {},
   "source": [
    "## Is the performance measure aligned with the business objective?"
   ]
  },
  {
   "cell_type": "markdown",
   "id": "fa9545bd-597f-47cb-b1ca-a0fd1c3d160e",
   "metadata": {},
   "source": [
    "## What would be the minimum performance needed to reach the business objective?"
   ]
  },
  {
   "cell_type": "markdown",
   "id": "995b15ea-00e9-4e50-9e5b-9d60302684a5",
   "metadata": {},
   "source": [
    "## Data Source\n",
    "- **We will work on Stack Overflow Developers Survey Dataset of 2022**"
   ]
  },
  {
   "cell_type": "markdown",
   "id": "852088e1-029f-4640-ad46-cff65cff4c2e",
   "metadata": {},
   "source": [
    "- Is the performance measure aligned with the business objective?\n",
    "- What would be the minimum performance needed to reach the business objective?\n",
    "- What are comparable problems? Can you reuse experience or tools?\n",
    "- Is human expertise available?\n",
    "- How would you solve the problem manually?\n",
    "- List the assumptions you or others have made so far.\n",
    "- Verify assumptions if possible."
   ]
  },
  {
   "cell_type": "markdown",
   "id": "627005c2-b55b-42af-a6ea-0417cfcbbde2",
   "metadata": {},
   "source": [
    "# Data Understanding"
   ]
  },
  {
   "cell_type": "code",
   "execution_count": 9,
   "id": "77727fd8-aab8-4e38-86e6-26baecbdb493",
   "metadata": {
    "tags": []
   },
   "outputs": [],
   "source": [
    "# Constants\n",
    "DATA_PATH = '../Data/Raw/survey_results_public2022.csv'\n",
    "# DATA_PATH1 = '../Data/Raw/survey_results_public2021.csv'\n",
    "# DATA_PATH2 = '../Data/Raw/survey_results_public2023.csv'"
   ]
  },
  {
   "cell_type": "code",
   "execution_count": 10,
   "id": "54ba5519-1269-48af-a0de-03d60392b19e",
   "metadata": {
    "tags": []
   },
   "outputs": [],
   "source": [
    "# Load packages\n",
    "import numpy as np\n",
    "import pandas as pd\n",
    "import logging\n",
    "pd.options.display.max_rows = 10000\n",
    "pd.options.display.max_columns = 10000"
   ]
  },
  {
   "cell_type": "code",
   "execution_count": 11,
   "id": "bb7aeb8b-a1d4-4f80-917d-c4edf2eb50f6",
   "metadata": {
    "tags": []
   },
   "outputs": [
    {
     "data": {
      "text/plain": [
       "(73268, 79)"
      ]
     },
     "execution_count": 11,
     "metadata": {},
     "output_type": "execute_result"
    }
   ],
   "source": [
    "# Read data and print shape\n",
    "raw_df = pd.read_csv(DATA_PATH)\n",
    "raw_df.shape"
   ]
  },
  {
   "cell_type": "code",
   "execution_count": 12,
   "id": "6eb90371-283e-4dc5-b730-a0ef6144e412",
   "metadata": {
    "tags": []
   },
   "outputs": [
    {
     "data": {
      "text/plain": [
       "Index(['ResponseId', 'MainBranch', 'Employment', 'RemoteWork',\n",
       "       'CodingActivities', 'EdLevel', 'LearnCode', 'LearnCodeOnline',\n",
       "       'LearnCodeCoursesCert', 'YearsCode', 'YearsCodePro', 'DevType',\n",
       "       'OrgSize', 'PurchaseInfluence', 'BuyNewTool', 'Country', 'Currency',\n",
       "       'CompTotal', 'CompFreq', 'LanguageHaveWorkedWith',\n",
       "       'LanguageWantToWorkWith', 'DatabaseHaveWorkedWith',\n",
       "       'DatabaseWantToWorkWith', 'PlatformHaveWorkedWith',\n",
       "       'PlatformWantToWorkWith', 'WebframeHaveWorkedWith',\n",
       "       'WebframeWantToWorkWith', 'MiscTechHaveWorkedWith',\n",
       "       'MiscTechWantToWorkWith', 'ToolsTechHaveWorkedWith',\n",
       "       'ToolsTechWantToWorkWith', 'NEWCollabToolsHaveWorkedWith',\n",
       "       'NEWCollabToolsWantToWorkWith', 'OpSysProfessional use',\n",
       "       'OpSysPersonal use', 'VersionControlSystem', 'VCInteraction',\n",
       "       'VCHostingPersonal use', 'VCHostingProfessional use',\n",
       "       'OfficeStackAsyncHaveWorkedWith', 'OfficeStackAsyncWantToWorkWith',\n",
       "       'OfficeStackSyncHaveWorkedWith', 'OfficeStackSyncWantToWorkWith',\n",
       "       'Blockchain', 'NEWSOSites', 'SOVisitFreq', 'SOAccount', 'SOPartFreq',\n",
       "       'SOComm', 'Age', 'Gender', 'Trans', 'Sexuality', 'Ethnicity',\n",
       "       'Accessibility', 'MentalHealth', 'TBranch', 'ICorPM', 'WorkExp',\n",
       "       'Knowledge_1', 'Knowledge_2', 'Knowledge_3', 'Knowledge_4',\n",
       "       'Knowledge_5', 'Knowledge_6', 'Knowledge_7', 'Frequency_1',\n",
       "       'Frequency_2', 'Frequency_3', 'TimeSearching', 'TimeAnswering',\n",
       "       'Onboarding', 'ProfessionalTech', 'TrueFalse_1', 'TrueFalse_2',\n",
       "       'TrueFalse_3', 'SurveyLength', 'SurveyEase', 'ConvertedCompYearly'],\n",
       "      dtype='object')"
      ]
     },
     "execution_count": 12,
     "metadata": {},
     "output_type": "execute_result"
    }
   ],
   "source": [
    "raw_df.columns"
   ]
  },
  {
   "cell_type": "code",
   "execution_count": 13,
   "id": "d624bf03-498e-4eaf-9ac7-e69df270b9e2",
   "metadata": {
    "tags": []
   },
   "outputs": [
    {
     "data": {
      "text/plain": [
       "ResponseId                                                                     9384\n",
       "MainBranch                                           I am a developer by profession\n",
       "Employment                                                      Employed, part-time\n",
       "RemoteWork                                     Hybrid (some remote, some in-person)\n",
       "CodingActivities                                       I don’t code outside of work\n",
       "EdLevel                             Master’s degree (M.A., M.S., M.Eng., MBA, etc.)\n",
       "LearnCode                         Books / Physical media;School (i.e., Universit...\n",
       "LearnCodeOnline                                                                 NaN\n",
       "LearnCodeCoursesCert                                                            NaN\n",
       "YearsCode                                                                        17\n",
       "YearsCodePro                                                                      9\n",
       "DevType                                   Developer, full-stack;Developer, back-end\n",
       "OrgSize                                                    1,000 to 4,999 employees\n",
       "PurchaseInfluence                                     I have little or no influence\n",
       "BuyNewTool                        Start a free trial;Ask developers I know/work ...\n",
       "Country                                                                     Austria\n",
       "Currency                                                          EUR European Euro\n",
       "CompTotal                                                                    2800.0\n",
       "CompFreq                                                                    Monthly\n",
       "LanguageHaveWorkedWith            Bash/Shell;HTML/CSS;Java;JavaScript;PowerShell...\n",
       "LanguageWantToWorkWith                             JavaScript;PowerShell;TypeScript\n",
       "DatabaseHaveWorkedWith                                                          NaN\n",
       "DatabaseWantToWorkWith                                                          NaN\n",
       "PlatformHaveWorkedWith                                                          NaN\n",
       "PlatformWantToWorkWith                                                          NaN\n",
       "WebframeHaveWorkedWith                                     Fastify;Node.js;React.js\n",
       "WebframeWantToWorkWith                                             Node.js;React.js\n",
       "MiscTechHaveWorkedWith                                                          NaN\n",
       "MiscTechWantToWorkWith                                                          NaN\n",
       "ToolsTechHaveWorkedWith                                                    npm;Yarn\n",
       "ToolsTechWantToWorkWith                                                         npm\n",
       "NEWCollabToolsHaveWorkedWith         IntelliJ;Notepad++;TextMate;Visual Studio Code\n",
       "NEWCollabToolsWantToWorkWith         IntelliJ;Notepad++;TextMate;Visual Studio Code\n",
       "OpSysProfessional use                     Windows;Windows Subsystem for Linux (WSL)\n",
       "OpSysPersonal use                                                           Windows\n",
       "VersionControlSystem                                                            Git\n",
       "VCInteraction                     Code editor;Command-line;Dedicated version con...\n",
       "VCHostingPersonal use                                                           NaN\n",
       "VCHostingProfessional use                                                       NaN\n",
       "OfficeStackAsyncHaveWorkedWith               Confluence;Jira Work Management;Trello\n",
       "OfficeStackAsyncWantToWorkWith                      Confluence;Jira Work Management\n",
       "OfficeStackSyncHaveWorkedWith                                            Slack;Zoom\n",
       "OfficeStackSyncWantToWorkWith                                            Slack;Zoom\n",
       "Blockchain                                                         Very unfavorable\n",
       "NEWSOSites                                            Stack Overflow;Stack Exchange\n",
       "SOVisitFreq                                                    A few times per week\n",
       "SOAccount                                                                       Yes\n",
       "SOPartFreq                                      Less than once per month or monthly\n",
       "SOComm                                                                     Not sure\n",
       "Age                                                                 35-44 years old\n",
       "Gender                                                                        Woman\n",
       "Trans                                                                            No\n",
       "Sexuality                                                   Straight / Heterosexual\n",
       "Ethnicity                                                            Middle Eastern\n",
       "Accessibility                                                     None of the above\n",
       "MentalHealth                                                      None of the above\n",
       "TBranch                                                                         Yes\n",
       "ICorPM                                                      Independent contributor\n",
       "WorkExp                                                                         9.0\n",
       "Knowledge_1                                                                   Agree\n",
       "Knowledge_2                                                                   Agree\n",
       "Knowledge_3                                                                   Agree\n",
       "Knowledge_4                                              Neither agree nor disagree\n",
       "Knowledge_5                                              Neither agree nor disagree\n",
       "Knowledge_6                                                                Disagree\n",
       "Knowledge_7                                                                   Agree\n",
       "Frequency_1                                                        1-2 times a week\n",
       "Frequency_2                                                        3-5 times a week\n",
       "Frequency_3                                                        1-2 times a week\n",
       "TimeSearching                                                   30-60 minutes a day\n",
       "TimeAnswering                                                   15-30 minutes a day\n",
       "Onboarding                                                               Just right\n",
       "ProfessionalTech                  Innersource initiative;DevOps function;Develop...\n",
       "TrueFalse_1                                                                     Yes\n",
       "TrueFalse_2                                                                     Yes\n",
       "TrueFalse_3                                                                     Yes\n",
       "SurveyLength                                                  Appropriate in length\n",
       "SurveyEase                                                                     Easy\n",
       "ConvertedCompYearly                                                         35832.0\n",
       "Name: 9383, dtype: object"
      ]
     },
     "execution_count": 13,
     "metadata": {},
     "output_type": "execute_result"
    }
   ],
   "source": [
    "# Display random row \n",
    "raw_df.sample(1).iloc[0]"
   ]
  },
  {
   "cell_type": "code",
   "execution_count": 14,
   "id": "80961d66-5965-4871-b966-4a9117a3681b",
   "metadata": {
    "tags": []
   },
   "outputs": [
    {
     "name": "stdout",
     "output_type": "stream",
     "text": [
      "<class 'pandas.core.frame.DataFrame'>\n",
      "RangeIndex: 73268 entries, 0 to 73267\n",
      "Data columns (total 79 columns):\n",
      " #   Column                          Non-Null Count  Dtype  \n",
      "---  ------                          --------------  -----  \n",
      " 0   ResponseId                      73268 non-null  int64  \n",
      " 1   MainBranch                      73268 non-null  object \n",
      " 2   Employment                      71709 non-null  object \n",
      " 3   RemoteWork                      58958 non-null  object \n",
      " 4   CodingActivities                58899 non-null  object \n",
      " 5   EdLevel                         71571 non-null  object \n",
      " 6   LearnCode                       71580 non-null  object \n",
      " 7   LearnCodeOnline                 50685 non-null  object \n",
      " 8   LearnCodeCoursesCert            29389 non-null  object \n",
      " 9   YearsCode                       71331 non-null  object \n",
      " 10  YearsCodePro                    51833 non-null  object \n",
      " 11  DevType                         61302 non-null  object \n",
      " 12  OrgSize                         51039 non-null  object \n",
      " 13  PurchaseInfluence               50969 non-null  object \n",
      " 14  BuyNewTool                      67963 non-null  object \n",
      " 15  Country                         71771 non-null  object \n",
      " 16  Currency                        51264 non-null  object \n",
      " 17  CompTotal                       38422 non-null  float64\n",
      " 18  CompFreq                        44425 non-null  object \n",
      " 19  LanguageHaveWorkedWith          70975 non-null  object \n",
      " 20  LanguageWantToWorkWith          67027 non-null  object \n",
      " 21  DatabaseHaveWorkedWith          60121 non-null  object \n",
      " 22  DatabaseWantToWorkWith          51014 non-null  object \n",
      " 23  PlatformHaveWorkedWith          49924 non-null  object \n",
      " 24  PlatformWantToWorkWith          40415 non-null  object \n",
      " 25  WebframeHaveWorkedWith          53544 non-null  object \n",
      " 26  WebframeWantToWorkWith          46122 non-null  object \n",
      " 27  MiscTechHaveWorkedWith          44992 non-null  object \n",
      " 28  MiscTechWantToWorkWith          36810 non-null  object \n",
      " 29  ToolsTechHaveWorkedWith         54171 non-null  object \n",
      " 30  ToolsTechWantToWorkWith         46566 non-null  object \n",
      " 31  NEWCollabToolsHaveWorkedWith    70347 non-null  object \n",
      " 32  NEWCollabToolsWantToWorkWith    64108 non-null  object \n",
      " 33  OpSysProfessional use           65503 non-null  object \n",
      " 34  OpSysPersonal use               70963 non-null  object \n",
      " 35  VersionControlSystem            71379 non-null  object \n",
      " 36  VCInteraction                   68156 non-null  object \n",
      " 37  VCHostingPersonal use           0 non-null      float64\n",
      " 38  VCHostingProfessional use       0 non-null      float64\n",
      " 39  OfficeStackAsyncHaveWorkedWith  46223 non-null  object \n",
      " 40  OfficeStackAsyncWantToWorkWith  32072 non-null  object \n",
      " 41  OfficeStackSyncHaveWorkedWith   62128 non-null  object \n",
      " 42  OfficeStackSyncWantToWorkWith   47688 non-null  object \n",
      " 43  Blockchain                      71071 non-null  object \n",
      " 44  NEWSOSites                      71365 non-null  object \n",
      " 45  SOVisitFreq                     70961 non-null  object \n",
      " 46  SOAccount                       71572 non-null  object \n",
      " 47  SOPartFreq                      58229 non-null  object \n",
      " 48  SOComm                          71408 non-null  object \n",
      " 49  Age                             70946 non-null  object \n",
      " 50  Gender                          70853 non-null  object \n",
      " 51  Trans                           70315 non-null  object \n",
      " 52  Sexuality                       66565 non-null  object \n",
      " 53  Ethnicity                       69474 non-null  object \n",
      " 54  Accessibility                   67244 non-null  object \n",
      " 55  MentalHealth                    66447 non-null  object \n",
      " 56  TBranch                         52670 non-null  object \n",
      " 57  ICorPM                          36283 non-null  object \n",
      " 58  WorkExp                         36769 non-null  float64\n",
      " 59  Knowledge_1                     35804 non-null  object \n",
      " 60  Knowledge_2                     34973 non-null  object \n",
      " 61  Knowledge_3                     35133 non-null  object \n",
      " 62  Knowledge_4                     35097 non-null  object \n",
      " 63  Knowledge_5                     35014 non-null  object \n",
      " 64  Knowledge_6                     34991 non-null  object \n",
      " 65  Knowledge_7                     34977 non-null  object \n",
      " 66  Frequency_1                     35371 non-null  object \n",
      " 67  Frequency_2                     35344 non-null  object \n",
      " 68  Frequency_3                     34515 non-null  object \n",
      " 69  TimeSearching                   36198 non-null  object \n",
      " 70  TimeAnswering                   36022 non-null  object \n",
      " 71  Onboarding                      35679 non-null  object \n",
      " 72  ProfessionalTech                34906 non-null  object \n",
      " 73  TrueFalse_1                     35819 non-null  object \n",
      " 74  TrueFalse_2                     35715 non-null  object \n",
      " 75  TrueFalse_3                     35749 non-null  object \n",
      " 76  SurveyLength                    70444 non-null  object \n",
      " 77  SurveyEase                      70508 non-null  object \n",
      " 78  ConvertedCompYearly             38071 non-null  float64\n",
      "dtypes: float64(5), int64(1), object(73)\n",
      "memory usage: 44.2+ MB\n"
     ]
    }
   ],
   "source": [
    "# Print the general information of the data frame \n",
    "raw_df.info()"
   ]
  },
  {
   "cell_type": "code",
   "execution_count": 15,
   "id": "451e07eb-8028-4a7b-ad61-eed5a6c8c844",
   "metadata": {
    "tags": []
   },
   "outputs": [
    {
     "data": {
      "text/plain": [
       "False    73268\n",
       "dtype: int64"
      ]
     },
     "execution_count": 15,
     "metadata": {},
     "output_type": "execute_result"
    }
   ],
   "source": [
    "# Check for duplicates\n",
    "raw_df.duplicated().value_counts()"
   ]
  },
  {
   "cell_type": "code",
   "execution_count": 16,
   "id": "adca457e-e47f-4fe7-943c-266e76a72f20",
   "metadata": {
    "tags": []
   },
   "outputs": [],
   "source": [
    "# create list for numerical and categorical columns \n",
    "cat_cols = list(raw_df.select_dtypes(include=['object']).columns)\n",
    "num_cols = list(raw_df.select_dtypes(exclude=['object']).columns)"
   ]
  },
  {
   "cell_type": "code",
   "execution_count": 17,
   "id": "58548339-a93b-43ef-a9c7-6d527ed30eed",
   "metadata": {
    "tags": []
   },
   "outputs": [],
   "source": [
    "def print_value_counts(df, columns):\n",
    "    for col in columns:\n",
    "        value_counts = df[col].value_counts()[:50]\n",
    "        unique_count = len(df[col].unique())\n",
    "        print(f\"Value counts of {col}:\\nNo. of Unique values: {unique_count}\\n{value_counts}' \\n\")"
   ]
  },
  {
   "cell_type": "code",
   "execution_count": null,
   "id": "75f8f1df-8254-4262-8d04-87616acef8f2",
   "metadata": {},
   "outputs": [],
   "source": [
    "# Explore the categories and no. of unique values of each categorical column\n",
    "print_value_counts(raw_df, cat_cols)"
   ]
  },
  {
   "cell_type": "code",
   "execution_count": null,
   "id": "6c391bd4-7552-456e-9305-9c850fdf7319",
   "metadata": {},
   "outputs": [],
   "source": [
    "# Get stats for the numerical column\n",
    "raw_df.describe()"
   ]
  },
  {
   "cell_type": "code",
   "execution_count": null,
   "id": "b46bb852-57c6-474b-a1d5-1a42db5dcabd",
   "metadata": {},
   "outputs": [],
   "source": [
    "# Investigate the questionable objects columns\n",
    "questionable_cols = ['YearsCodePro', 'YearsCode']\n",
    "\n",
    "for col in questionable_cols: \n",
    "    print(col)\n",
    "    print(raw_df[col].unique().tolist())\n",
    "    print('--------------------------')\n",
    "    print()"
   ]
  },
  {
   "cell_type": "code",
   "execution_count": null,
   "id": "57186cb0-fc4a-448a-83ff-55ec9a8da9cd",
   "metadata": {},
   "outputs": [],
   "source": [
    "def print_unique_values(encoded_df, columns):\n",
    "    \"\"\"\n",
    "    Print the unique values for each categorical column in the DataFrame.\n",
    "\n",
    "    Args:\n",
    "        encoded_df (DataFrame): Encoded DataFrame containing categorical columns.\n",
    "        columns (list): Array of column names to loop through.\n",
    "\n",
    "    Returns:\n",
    "        None\n",
    "    \"\"\"\n",
    "    for col in columns:\n",
    "        unique_values = encoded_df[col].unique()\n",
    "        print(f\"Unique values of '{col}': {unique_values}\\n\")"
   ]
  }
 ],
 "metadata": {
  "kernelspec": {
   "display_name": "Python 3 (ipykernel)",
   "language": "python",
   "name": "python3"
  },
  "language_info": {
   "codemirror_mode": {
    "name": "ipython",
    "version": 3
   },
   "file_extension": ".py",
   "mimetype": "text/x-python",
   "name": "python",
   "nbconvert_exporter": "python",
   "pygments_lexer": "ipython3",
   "version": "3.11.4"
  }
 },
 "nbformat": 4,
 "nbformat_minor": 5
}
