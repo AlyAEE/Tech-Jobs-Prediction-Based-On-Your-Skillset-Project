{
 "cells": [
  {
   "cell_type": "code",
   "execution_count": 48,
   "id": "0202ef0a-1855-4d0e-87c8-d533dd44fcfa",
   "metadata": {
    "tags": []
   },
   "outputs": [],
   "source": [
    "API_URL = 'http://127.0.0.1:5000/'\n",
    "PREDICTION_ENDPOINT = 'predict_jobs_probs'\n",
    "SIMULATION_ENDPOINT = 'recommend_new_skills'"
   ]
  },
  {
   "cell_type": "code",
   "execution_count": 49,
   "id": "a35f4b0e-960b-4f1d-a9d4-3f8e617d6ebf",
   "metadata": {
    "tags": []
   },
   "outputs": [],
   "source": [
    "import requests\n",
    "import json\n",
    "import pandas as pd"
   ]
  },
  {
   "cell_type": "markdown",
   "id": "cfc14e39-c2d2-4128-a479-4677c3eacaa4",
   "metadata": {},
   "source": [
    "### Job Prediction"
   ]
  },
  {
   "cell_type": "code",
   "execution_count": 50,
   "id": "13100ef7-1682-4be0-8ff0-a13434139b3f",
   "metadata": {
    "tags": []
   },
   "outputs": [],
   "source": [
    "entry_skills = ['SQL','Python','Scikit-learn','Git']"
   ]
  },
  {
   "cell_type": "code",
   "execution_count": 51,
   "id": "0b298bdf-802a-4429-b767-f308ae4a2ae4",
   "metadata": {
    "tags": []
   },
   "outputs": [],
   "source": [
    "predictions = requests.post(API_URL + PREDICTION_ENDPOINT,\n",
    "                            data=json.dumps(entry_skills),\n",
    "                            headers={'content-type':'application/json'})"
   ]
  },
  {
   "cell_type": "code",
   "execution_count": 52,
   "id": "2150c1fd-f71d-447d-abba-9cd86d9a47ee",
   "metadata": {
    "tags": []
   },
   "outputs": [
    {
     "data": {
      "text/plain": [
       "Data scientist or machine learning specialist    0.272915\n",
       "Scientist                                        0.249905\n",
       "Data or business analyst                         0.197479\n",
       "Developer, back-end                              0.165581\n",
       "Engineer, data                                   0.138974\n",
       "Academic researcher                              0.125822\n",
       "Developer, full-stack                            0.080246\n",
       "Developer, desktop or enterprise applications    0.065241\n",
       "System administrator                             0.062385\n",
       "Database administrator                           0.059243\n",
       "Developer, mobile                                0.058655\n",
       "Developer, QA or test                            0.052600\n",
       "Developer, embedded applications or devices      0.045772\n",
       "Security professional                            0.037232\n",
       "Developer, game or graphics                      0.035752\n",
       "Blockchain                                       0.019434\n",
       "Developer, front-end                             0.012774\n",
       "Cloud infrastructure engineer                    0.009365\n",
       "DevOps specialist                                0.000000\n",
       "dtype: float64"
      ]
     },
     "execution_count": 52,
     "metadata": {},
     "output_type": "execute_result"
    }
   ],
   "source": [
    "pd.Series(predictions.json()).sort_values(ascending=False)"
   ]
  },
  {
   "cell_type": "markdown",
   "id": "82b460ca-d54a-47d9-9638-29310d1606a8",
   "metadata": {},
   "source": [
    "### Recommend Skills"
   ]
  },
  {
   "cell_type": "code",
   "execution_count": 53,
   "id": "e4a57e02-eda9-43ea-895b-9098b2b3f8e1",
   "metadata": {
    "tags": []
   },
   "outputs": [],
   "source": [
    "target_job = 'Data scientist or machine learning specialist'"
   ]
  },
  {
   "cell_type": "code",
   "execution_count": 54,
   "id": "08e1c9cf-cec6-48b5-b71e-f16e693716d2",
   "metadata": {
    "tags": []
   },
   "outputs": [],
   "source": [
    "skills_recommended = requests.post(API_URL + SIMULATION_ENDPOINT,\n",
    "                                    data=json.dumps({'entry_skills': entry_skills,\n",
    "                                                     'target_job': target_job}),\n",
    "                                    headers={'content-type':'application/json'})"
   ]
  },
  {
   "cell_type": "code",
   "execution_count": 55,
   "id": "5dd81e72-9aed-4d8d-bf23-4880d7d4d8f3",
   "metadata": {
    "tags": []
   },
   "outputs": [
    {
     "data": {
      "text/plain": [
       "PyCharm                      0.7218\n",
       "IPython/Jupyter              0.5246\n",
       "Hadoop                       0.3207\n",
       "Apache Spark                 0.2787\n",
       "Torch/PyTorch                0.2295\n",
       "Keras                        0.2187\n",
       "Tidyverse                    0.1927\n",
       "Django                       0.1905\n",
       "FastAPI                      0.1296\n",
       "TensorFlow                   0.1236\n",
       "Hugging Face Transformers    0.1189\n",
       "Flask                        0.1144\n",
       "Play Framework               0.1098\n",
       "Cassandra                    0.0501\n",
       "Spyder                       0.0412\n",
       "NumPy                        0.0346\n",
       "R                            0.0292\n",
       "Fastify                      0.0273\n",
       "Neo4j                        0.0256\n",
       "Apache Kafka                 0.0126\n",
       "dtype: float64"
      ]
     },
     "execution_count": 55,
     "metadata": {},
     "output_type": "execute_result"
    }
   ],
   "source": [
    "pd.Series(skills_recommended.json()).sort_values(ascending=False).round(4).head(20)"
   ]
  },
  {
   "cell_type": "markdown",
   "id": "58e72b0f-db9b-45bd-a81a-f76f47273fea",
   "metadata": {},
   "source": [
    "_________________________________________________________"
   ]
  }
 ],
 "metadata": {
  "kernelspec": {
   "display_name": "Python 3 (ipykernel)",
   "language": "python",
   "name": "python3"
  },
  "language_info": {
   "codemirror_mode": {
    "name": "ipython",
    "version": 3
   },
   "file_extension": ".py",
   "mimetype": "text/x-python",
   "name": "python",
   "nbconvert_exporter": "python",
   "pygments_lexer": "ipython3",
   "version": "3.11.4"
  }
 },
 "nbformat": 4,
 "nbformat_minor": 5
}
