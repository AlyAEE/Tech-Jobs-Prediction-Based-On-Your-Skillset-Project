{
 "cells": [
  {
   "cell_type": "code",
   "execution_count": 1,
   "id": "9c5a4089-e427-4a73-bff5-c388e4dfef5d",
   "metadata": {
    "tags": []
   },
   "outputs": [],
   "source": [
    "# Constants\n",
    "MLFLOW_TRACKING_URI = '../models/mlruns'\n",
    "MLFLOW_RUN_ID = \"366b3b40b46344edb0a8d00c95a3884c\"\n",
    "\n",
    "LOG_DATA_PKL    =  \"data.pkl\"\n",
    "LOG_MODEL_PKL   =  \"model.pkl\"\n",
    "LOG_METRICS_PKL =  \"metrics.pkl\"\n",
    "\n",
    "CLUSTERS_YAML_PATH = \"../Data/Processed/3_skills_clusters.yaml\""
   ]
  },
  {
   "cell_type": "code",
   "execution_count": 2,
   "id": "260ebe66-be1f-483b-b32c-22682224b6cc",
   "metadata": {
    "tags": []
   },
   "outputs": [],
   "source": [
    "#Load Packages\n",
    "import os \n",
    "import sklearn\n",
    "import pickle\n",
    "import yaml\n",
    "from pprint import pprint,PrettyPrinter\n",
    "\n",
    "import pandas as pd\n",
    "\n",
    "import mlflow\n",
    "from mlflow.tracking import MlflowClient"
   ]
  },
  {
   "cell_type": "markdown",
   "id": "cd68a95e-f999-456b-84b3-ebe340fd18df",
   "metadata": {},
   "source": [
    "____"
   ]
  },
  {
   "cell_type": "markdown",
   "id": "2584fa69-8449-46e1-a784-d9679f07bf0e",
   "metadata": {},
   "source": [
    "### Intialize MLflow"
   ]
  },
  {
   "cell_type": "code",
   "execution_count": 3,
   "id": "9fe8ac6b-3afe-4f1f-b8af-acc26b5453c4",
   "metadata": {
    "tags": []
   },
   "outputs": [],
   "source": [
    "# Initialize client and experiment\n",
    "mlflow.set_tracking_uri(MLFLOW_TRACKING_URI)\n",
    "client = MlflowClient()\n",
    "\n",
    "run = mlflow.get_run(MLFLOW_RUN_ID)\n",
    "artifact_path = run.info.artifact_uri.replace(\"file:///\", \"\")"
   ]
  },
  {
   "cell_type": "markdown",
   "id": "e7b53308-d7f7-45f9-99b0-a7724174ef8c",
   "metadata": {},
   "source": [
    "### Load Data and Model"
   ]
  },
  {
   "cell_type": "code",
   "execution_count": 4,
   "id": "67ae174d-d6cb-417b-ab5d-52b7d7d492d3",
   "metadata": {
    "tags": []
   },
   "outputs": [
    {
     "data": {
      "text/plain": [
       "{'model_description': 'Random Forest, Tuned, multilabel, Data resampled',\n",
       " 'model_details': \"Pipeline(steps=[('randomforestclassifier',\\n                 RandomForestClassifier(class_weight='balanced', max_depth=40,\\n                                        max_features='log2',\\n                                        min_samples_split=3, n_estimators=120,\\n                                        n_jobs=-1, random_state=42))])\",\n",
       " 'model_object': Pipeline(steps=[('randomforestclassifier',\n",
       "                  RandomForestClassifier(class_weight='balanced', max_depth=40,\n",
       "                                         max_features='log2',\n",
       "                                         min_samples_split=3, n_estimators=120,\n",
       "                                         n_jobs=-1, random_state=42))])}"
      ]
     },
     "execution_count": 4,
     "metadata": {},
     "output_type": "execute_result"
    }
   ],
   "source": [
    "# Load model\n",
    "model_path = os.path.join(artifact_path, LOG_MODEL_PKL)\n",
    "with open(model_path, \"rb\") as handle:\n",
    "    model = pickle.load(handle)\n",
    "\n",
    "model"
   ]
  },
  {
   "cell_type": "code",
   "execution_count": 5,
   "id": "22e28a15-61bd-4746-b65f-56b38874b25b",
   "metadata": {
    "tags": []
   },
   "outputs": [
    {
     "data": {
      "text/plain": [
       "dict_keys(['data_path', 'training_set', 'test_indices', 'features_names', 'targets_names'])"
      ]
     },
     "execution_count": 5,
     "metadata": {},
     "output_type": "execute_result"
    }
   ],
   "source": [
    "# Load data pkl\n",
    "data_path  = os.path.join(artifact_path, LOG_DATA_PKL)\n",
    "with open(data_path, 'rb') as handle:\n",
    "    data = pickle.load(handle)\n",
    "\n",
    "data.keys()"
   ]
  },
  {
   "cell_type": "code",
   "execution_count": 6,
   "id": "6af2ca62-df27-4a94-8f35-92055bce2eeb",
   "metadata": {
    "tags": []
   },
   "outputs": [],
   "source": [
    "# Get the Classifier, Features ,and Target names\n",
    "features_names = pd.Series(data[\"features_names\"])\n",
    "targets_names  = pd.Series(data['targets_names'])\n",
    "classifier = model['model_object']"
   ]
  },
  {
   "cell_type": "code",
   "execution_count": 7,
   "id": "c0103816-a52f-4f07-87e6-55136fdc1cf7",
   "metadata": {
    "tags": []
   },
   "outputs": [
    {
     "data": {
      "text/html": [
       "<style>#sk-container-id-1 {color: black;}#sk-container-id-1 pre{padding: 0;}#sk-container-id-1 div.sk-toggleable {background-color: white;}#sk-container-id-1 label.sk-toggleable__label {cursor: pointer;display: block;width: 100%;margin-bottom: 0;padding: 0.3em;box-sizing: border-box;text-align: center;}#sk-container-id-1 label.sk-toggleable__label-arrow:before {content: \"▸\";float: left;margin-right: 0.25em;color: #696969;}#sk-container-id-1 label.sk-toggleable__label-arrow:hover:before {color: black;}#sk-container-id-1 div.sk-estimator:hover label.sk-toggleable__label-arrow:before {color: black;}#sk-container-id-1 div.sk-toggleable__content {max-height: 0;max-width: 0;overflow: hidden;text-align: left;background-color: #f0f8ff;}#sk-container-id-1 div.sk-toggleable__content pre {margin: 0.2em;color: black;border-radius: 0.25em;background-color: #f0f8ff;}#sk-container-id-1 input.sk-toggleable__control:checked~div.sk-toggleable__content {max-height: 200px;max-width: 100%;overflow: auto;}#sk-container-id-1 input.sk-toggleable__control:checked~label.sk-toggleable__label-arrow:before {content: \"▾\";}#sk-container-id-1 div.sk-estimator input.sk-toggleable__control:checked~label.sk-toggleable__label {background-color: #d4ebff;}#sk-container-id-1 div.sk-label input.sk-toggleable__control:checked~label.sk-toggleable__label {background-color: #d4ebff;}#sk-container-id-1 input.sk-hidden--visually {border: 0;clip: rect(1px 1px 1px 1px);clip: rect(1px, 1px, 1px, 1px);height: 1px;margin: -1px;overflow: hidden;padding: 0;position: absolute;width: 1px;}#sk-container-id-1 div.sk-estimator {font-family: monospace;background-color: #f0f8ff;border: 1px dotted black;border-radius: 0.25em;box-sizing: border-box;margin-bottom: 0.5em;}#sk-container-id-1 div.sk-estimator:hover {background-color: #d4ebff;}#sk-container-id-1 div.sk-parallel-item::after {content: \"\";width: 100%;border-bottom: 1px solid gray;flex-grow: 1;}#sk-container-id-1 div.sk-label:hover label.sk-toggleable__label {background-color: #d4ebff;}#sk-container-id-1 div.sk-serial::before {content: \"\";position: absolute;border-left: 1px solid gray;box-sizing: border-box;top: 0;bottom: 0;left: 50%;z-index: 0;}#sk-container-id-1 div.sk-serial {display: flex;flex-direction: column;align-items: center;background-color: white;padding-right: 0.2em;padding-left: 0.2em;position: relative;}#sk-container-id-1 div.sk-item {position: relative;z-index: 1;}#sk-container-id-1 div.sk-parallel {display: flex;align-items: stretch;justify-content: center;background-color: white;position: relative;}#sk-container-id-1 div.sk-item::before, #sk-container-id-1 div.sk-parallel-item::before {content: \"\";position: absolute;border-left: 1px solid gray;box-sizing: border-box;top: 0;bottom: 0;left: 50%;z-index: -1;}#sk-container-id-1 div.sk-parallel-item {display: flex;flex-direction: column;z-index: 1;position: relative;background-color: white;}#sk-container-id-1 div.sk-parallel-item:first-child::after {align-self: flex-end;width: 50%;}#sk-container-id-1 div.sk-parallel-item:last-child::after {align-self: flex-start;width: 50%;}#sk-container-id-1 div.sk-parallel-item:only-child::after {width: 0;}#sk-container-id-1 div.sk-dashed-wrapped {border: 1px dashed gray;margin: 0 0.4em 0.5em 0.4em;box-sizing: border-box;padding-bottom: 0.4em;background-color: white;}#sk-container-id-1 div.sk-label label {font-family: monospace;font-weight: bold;display: inline-block;line-height: 1.2em;}#sk-container-id-1 div.sk-label-container {text-align: center;}#sk-container-id-1 div.sk-container {/* jupyter's `normalize.less` sets `[hidden] { display: none; }` but bootstrap.min.css set `[hidden] { display: none !important; }` so we also need the `!important` here to be able to override the default hidden behavior on the sphinx rendered scikit-learn.org. See: https://github.com/scikit-learn/scikit-learn/issues/21755 */display: inline-block !important;position: relative;}#sk-container-id-1 div.sk-text-repr-fallback {display: none;}</style><div id=\"sk-container-id-1\" class=\"sk-top-container\"><div class=\"sk-text-repr-fallback\"><pre>Pipeline(steps=[(&#x27;randomforestclassifier&#x27;,\n",
       "                 RandomForestClassifier(class_weight=&#x27;balanced&#x27;, max_depth=40,\n",
       "                                        max_features=&#x27;log2&#x27;,\n",
       "                                        min_samples_split=3, n_estimators=120,\n",
       "                                        n_jobs=-1, random_state=42))])</pre><b>In a Jupyter environment, please rerun this cell to show the HTML representation or trust the notebook. <br />On GitHub, the HTML representation is unable to render, please try loading this page with nbviewer.org.</b></div><div class=\"sk-container\" hidden><div class=\"sk-item sk-dashed-wrapped\"><div class=\"sk-label-container\"><div class=\"sk-label sk-toggleable\"><input class=\"sk-toggleable__control sk-hidden--visually\" id=\"sk-estimator-id-1\" type=\"checkbox\" ><label for=\"sk-estimator-id-1\" class=\"sk-toggleable__label sk-toggleable__label-arrow\">Pipeline</label><div class=\"sk-toggleable__content\"><pre>Pipeline(steps=[(&#x27;randomforestclassifier&#x27;,\n",
       "                 RandomForestClassifier(class_weight=&#x27;balanced&#x27;, max_depth=40,\n",
       "                                        max_features=&#x27;log2&#x27;,\n",
       "                                        min_samples_split=3, n_estimators=120,\n",
       "                                        n_jobs=-1, random_state=42))])</pre></div></div></div><div class=\"sk-serial\"><div class=\"sk-item\"><div class=\"sk-estimator sk-toggleable\"><input class=\"sk-toggleable__control sk-hidden--visually\" id=\"sk-estimator-id-2\" type=\"checkbox\" ><label for=\"sk-estimator-id-2\" class=\"sk-toggleable__label sk-toggleable__label-arrow\">RandomForestClassifier</label><div class=\"sk-toggleable__content\"><pre>RandomForestClassifier(class_weight=&#x27;balanced&#x27;, max_depth=40,\n",
       "                       max_features=&#x27;log2&#x27;, min_samples_split=3,\n",
       "                       n_estimators=120, n_jobs=-1, random_state=42)</pre></div></div></div></div></div></div></div>"
      ],
      "text/plain": [
       "Pipeline(steps=[('randomforestclassifier',\n",
       "                 RandomForestClassifier(class_weight='balanced', max_depth=40,\n",
       "                                        max_features='log2',\n",
       "                                        min_samples_split=3, n_estimators=120,\n",
       "                                        n_jobs=-1, random_state=42))])"
      ]
     },
     "execution_count": 7,
     "metadata": {},
     "output_type": "execute_result"
    }
   ],
   "source": [
    "classifier"
   ]
  },
  {
   "cell_type": "markdown",
   "id": "93a9f590-999a-4665-9bce-2b52baa7e061",
   "metadata": {},
   "source": [
    "____"
   ]
  },
  {
   "cell_type": "markdown",
   "id": "1f3bf299-13a5-4d22-ab71-a7695dd90c7f",
   "metadata": {},
   "source": [
    "### Load Skills Clusters"
   ]
  },
  {
   "cell_type": "code",
   "execution_count": 8,
   "id": "2513138c-34da-4cd6-b970-f1c7455b043a",
   "metadata": {
    "tags": []
   },
   "outputs": [
    {
     "name": "stdout",
     "output_type": "stream",
     "text": [
      "{'skills_group_0': ['Hugging Face Transformers',\n",
      "                    'Keras',\n",
      "                    'NumPy',\n",
      "                    'Pandas',\n",
      "                    'Scikit-learn',\n",
      "                    'TensorFlow',\n",
      "                    'Torch/PyTorch',\n",
      "                    'IPython/Jupyter',\n",
      "                    'Spyder'],\n",
      " 'skills_group_1': ['PHP',\n",
      "                    'MariaDB',\n",
      "                    'MySQL',\n",
      "                    'OVH',\n",
      "                    'Drupal',\n",
      "                    'Laravel',\n",
      "                    'Symfony',\n",
      "                    'jQuery',\n",
      "                    'PhpStorm',\n",
      "                    'Webstorm'],\n",
      " 'skills_group_10': ['IBM DB2',\n",
      "                     'Oracle',\n",
      "                     'IBM Cloud or Watson',\n",
      "                     'Oracle Cloud Infrastructure'],\n",
      " 'skills_group_11': ['HTML/CSS',\n",
      "                     'JavaScript',\n",
      "                     'TypeScript',\n",
      "                     'React.js',\n",
      "                     'Yarn',\n",
      "                     'npm',\n",
      "                     'Visual Studio Code'],\n",
      " 'skills_group_12': ['Objective-C', 'Swift', 'Homebrew', 'Xcode'],\n",
      " 'skills_group_13': ['Assembly', 'C', 'C++', 'MATLAB', 'CLion'],\n",
      " 'skills_group_14': ['Git',\n",
      "                     'Ansible',\n",
      "                     'Docker',\n",
      "                     'Kubernetes',\n",
      "                     'Pulumi',\n",
      "                     'Terraform'],\n",
      " 'skills_group_15': ['Clojure', 'Haskell', 'LISP', 'OCaml', 'Emacs'],\n",
      " 'skills_group_16': ['Atom', 'Eclipse', 'NetBeans', 'Sublime Text'],\n",
      " 'skills_group_17': ['Lua', 'Rust', 'Neovim'],\n",
      " 'skills_group_18': ['Electron', 'React Native'],\n",
      " 'skills_group_19': ['Capacitor', 'Cordova', 'Ionic'],\n",
      " 'skills_group_2': ['Scala',\n",
      "                    'Cassandra',\n",
      "                    'Neo4j',\n",
      "                    'Play Framework',\n",
      "                    'Apache Kafka',\n",
      "                    'Apache Spark',\n",
      "                    'Hadoop'],\n",
      " 'skills_group_20': ['Deno', 'Fastify', 'Svelte'],\n",
      " 'skills_group_21': ['SVN', 'Delphi', 'RAD Studio (Delphi, C++ Builder)'],\n",
      " 'skills_group_22': ['CouchDB', 'Couchbase'],\n",
      " 'skills_group_23': ['DynamoDB', 'AWS', 'Google Cloud'],\n",
      " 'skills_group_24': ['Python', 'Django', 'FastAPI', 'Flask', 'PyCharm'],\n",
      " 'skills_group_25': ['Unity 3D', 'Unreal Engine'],\n",
      " 'skills_group_26': ['DigitalOcean', 'Heroku', 'Linode'],\n",
      " 'skills_group_27': ['Elixir', 'Erlang', 'Phoenix'],\n",
      " 'skills_group_28': ['Solidity',\n",
      "                     'MongoDB',\n",
      "                     'Express',\n",
      "                     'Gatsby',\n",
      "                     'Next.js',\n",
      "                     'Node.js'],\n",
      " 'skills_group_29': ['Groovy', 'Java', 'Spring', 'IntelliJ'],\n",
      " 'skills_group_3': ['Colocation', 'Managed Hosting', 'OpenStack', 'VMware'],\n",
      " 'skills_group_30': ['GTK', 'Qt', 'Qt Creator'],\n",
      " 'skills_group_31': ['Cloud Firestore',\n",
      "                     'Firebase Realtime Database',\n",
      "                     'Firebase'],\n",
      " 'skills_group_32': ['Nuxt.js', 'Vue.js'],\n",
      " 'skills_group_33': ['Bash/Shell', 'Nano', 'Vim'],\n",
      " 'skills_group_34': ['Angular', 'Angular.js'],\n",
      " 'skills_group_35': ['Elasticsearch', 'PostgreSQL', 'Redis'],\n",
      " 'skills_group_36': ['Chef', 'Puppet'],\n",
      " 'skills_group_37': ['Go', 'GoLand'],\n",
      " 'skills_group_4': ['C#',\n",
      "                    'F#',\n",
      "                    'ASP.NET',\n",
      "                    'ASP.NET Core ',\n",
      "                    'Blazor',\n",
      "                    '.NET',\n",
      "                    'Uno Platform',\n",
      "                    'Xamarin',\n",
      "                    'Rider',\n",
      "                    'Visual Studio'],\n",
      " 'skills_group_5': ['PowerShell',\n",
      "                    'SQL',\n",
      "                    'VBA',\n",
      "                    'Microsoft SQL Server',\n",
      "                    'Microsoft Azure',\n",
      "                    'Notepad++'],\n",
      " 'skills_group_6': ['Ruby', 'Ruby on Rails', 'Flow', 'RubyMine', 'TextMate'],\n",
      " 'skills_group_7': ['Dart', 'Kotlin', 'SQLite', 'Flutter', 'Android Studio'],\n",
      " 'skills_group_8': ['Mercurial',\n",
      "                    'APL',\n",
      "                    'COBOL',\n",
      "                    'Crystal',\n",
      "                    'Fortran',\n",
      "                    'Perl',\n",
      "                    'SAS'],\n",
      " 'skills_group_9': ['Julia', 'R', 'Tidyverse', 'RStudio']}\n"
     ]
    }
   ],
   "source": [
    "# Load skills clusters\n",
    "with open(CLUSTERS_YAML_PATH, \"r\") as handle:\n",
    "    clusters_config = yaml.safe_load(handle)\n",
    "pprint(clusters_config)"
   ]
  },
  {
   "cell_type": "code",
   "execution_count": 9,
   "id": "6512267c-e8e3-4738-8122-d7903c396d34",
   "metadata": {
    "tags": []
   },
   "outputs": [
    {
     "data": {
      "text/html": [
       "<div>\n",
       "<style scoped>\n",
       "    .dataframe tbody tr th:only-of-type {\n",
       "        vertical-align: middle;\n",
       "    }\n",
       "\n",
       "    .dataframe tbody tr th {\n",
       "        vertical-align: top;\n",
       "    }\n",
       "\n",
       "    .dataframe thead th {\n",
       "        text-align: right;\n",
       "    }\n",
       "</style>\n",
       "<table border=\"1\" class=\"dataframe\">\n",
       "  <thead>\n",
       "    <tr style=\"text-align: right;\">\n",
       "      <th></th>\n",
       "      <th>cluster_name</th>\n",
       "      <th>skill</th>\n",
       "    </tr>\n",
       "  </thead>\n",
       "  <tbody>\n",
       "    <tr>\n",
       "      <th>0</th>\n",
       "      <td>skills_group_0</td>\n",
       "      <td>Hugging Face Transformers</td>\n",
       "    </tr>\n",
       "    <tr>\n",
       "      <th>1</th>\n",
       "      <td>skills_group_0</td>\n",
       "      <td>Keras</td>\n",
       "    </tr>\n",
       "    <tr>\n",
       "      <th>2</th>\n",
       "      <td>skills_group_0</td>\n",
       "      <td>NumPy</td>\n",
       "    </tr>\n",
       "    <tr>\n",
       "      <th>3</th>\n",
       "      <td>skills_group_0</td>\n",
       "      <td>Pandas</td>\n",
       "    </tr>\n",
       "    <tr>\n",
       "      <th>4</th>\n",
       "      <td>skills_group_0</td>\n",
       "      <td>Scikit-learn</td>\n",
       "    </tr>\n",
       "    <tr>\n",
       "      <th>...</th>\n",
       "      <td>...</td>\n",
       "      <td>...</td>\n",
       "    </tr>\n",
       "    <tr>\n",
       "      <th>159</th>\n",
       "      <td>skills_group_8</td>\n",
       "      <td>SAS</td>\n",
       "    </tr>\n",
       "    <tr>\n",
       "      <th>160</th>\n",
       "      <td>skills_group_9</td>\n",
       "      <td>Julia</td>\n",
       "    </tr>\n",
       "    <tr>\n",
       "      <th>161</th>\n",
       "      <td>skills_group_9</td>\n",
       "      <td>R</td>\n",
       "    </tr>\n",
       "    <tr>\n",
       "      <th>162</th>\n",
       "      <td>skills_group_9</td>\n",
       "      <td>Tidyverse</td>\n",
       "    </tr>\n",
       "    <tr>\n",
       "      <th>163</th>\n",
       "      <td>skills_group_9</td>\n",
       "      <td>RStudio</td>\n",
       "    </tr>\n",
       "  </tbody>\n",
       "</table>\n",
       "<p>164 rows × 2 columns</p>\n",
       "</div>"
      ],
      "text/plain": [
       "       cluster_name                      skill\n",
       "0    skills_group_0  Hugging Face Transformers\n",
       "1    skills_group_0                      Keras\n",
       "2    skills_group_0                      NumPy\n",
       "3    skills_group_0                     Pandas\n",
       "4    skills_group_0               Scikit-learn\n",
       "..              ...                        ...\n",
       "159  skills_group_8                        SAS\n",
       "160  skills_group_9                      Julia\n",
       "161  skills_group_9                          R\n",
       "162  skills_group_9                  Tidyverse\n",
       "163  skills_group_9                    RStudio\n",
       "\n",
       "[164 rows x 2 columns]"
      ]
     },
     "execution_count": 9,
     "metadata": {},
     "output_type": "execute_result"
    }
   ],
   "source": [
    "# Reformat into data frame\n",
    "molten_clusters = [(cluster_name, cluster_skill)\n",
    "                   for cluster_name, cluster_skills in clusters_config.items()\n",
    "                   for cluster_skill in cluster_skills]\n",
    "\n",
    "clusters_df = pd.DataFrame(molten_clusters, columns=[\"cluster_name\", \"skill\"])\n",
    "clusters_df"
   ]
  },
  {
   "cell_type": "markdown",
   "id": "bcbb9a0a-ce98-4b77-b351-9c05e6951b78",
   "metadata": {},
   "source": [
    " _____"
   ]
  },
  {
   "cell_type": "markdown",
   "id": "780e9d75-5d50-4c0e-bb35-6d73b5fdb9ad",
   "metadata": {},
   "source": [
    "### Create a Sample Entry"
   ]
  },
  {
   "cell_type": "code",
   "execution_count": 10,
   "id": "b5f38fd0-2f4c-42be-ae39-0fb0c191d416",
   "metadata": {
    "tags": []
   },
   "outputs": [],
   "source": [
    "sample_skills = ['NumPy', 'Pandas', 'Python','TensorFlow','Torch/PyTorch','Git','Docker','Scikit-learn','SQL']"
   ]
  },
  {
   "cell_type": "code",
   "execution_count": 11,
   "id": "ce16ee27-5ae6-4b22-ae1c-e4cc9de0acdc",
   "metadata": {
    "tags": []
   },
   "outputs": [
    {
     "data": {
      "text/plain": [
       "0    True\n",
       "1    True\n",
       "2    True\n",
       "3    True\n",
       "4    True\n",
       "5    True\n",
       "6    True\n",
       "7    True\n",
       "8    True\n",
       "dtype: bool"
      ]
     },
     "execution_count": 11,
     "metadata": {},
     "output_type": "execute_result"
    }
   ],
   "source": [
    "# Verify\n",
    "pd.Series(sample_skills).isin(features_names)"
   ]
  },
  {
   "cell_type": "markdown",
   "id": "064bc484-633e-4bc2-8779-33d7f79877a8",
   "metadata": {},
   "source": [
    "### Recreate Cluster Features"
   ]
  },
  {
   "cell_type": "code",
   "execution_count": 12,
   "id": "5aade7e3-9b1c-4c54-978d-0e79a6551a49",
   "metadata": {
    "tags": []
   },
   "outputs": [
    {
     "data": {
      "text/html": [
       "<div>\n",
       "<style scoped>\n",
       "    .dataframe tbody tr th:only-of-type {\n",
       "        vertical-align: middle;\n",
       "    }\n",
       "\n",
       "    .dataframe tbody tr th {\n",
       "        vertical-align: top;\n",
       "    }\n",
       "\n",
       "    .dataframe thead th {\n",
       "        text-align: right;\n",
       "    }\n",
       "</style>\n",
       "<table border=\"1\" class=\"dataframe\">\n",
       "  <thead>\n",
       "    <tr style=\"text-align: right;\">\n",
       "      <th></th>\n",
       "      <th>cluster_name</th>\n",
       "      <th>skill</th>\n",
       "      <th>sample_skills</th>\n",
       "    </tr>\n",
       "  </thead>\n",
       "  <tbody>\n",
       "    <tr>\n",
       "      <th>0</th>\n",
       "      <td>skills_group_0</td>\n",
       "      <td>Hugging Face Transformers</td>\n",
       "      <td>False</td>\n",
       "    </tr>\n",
       "    <tr>\n",
       "      <th>1</th>\n",
       "      <td>skills_group_0</td>\n",
       "      <td>Keras</td>\n",
       "      <td>False</td>\n",
       "    </tr>\n",
       "    <tr>\n",
       "      <th>2</th>\n",
       "      <td>skills_group_0</td>\n",
       "      <td>NumPy</td>\n",
       "      <td>True</td>\n",
       "    </tr>\n",
       "    <tr>\n",
       "      <th>3</th>\n",
       "      <td>skills_group_0</td>\n",
       "      <td>Pandas</td>\n",
       "      <td>True</td>\n",
       "    </tr>\n",
       "    <tr>\n",
       "      <th>4</th>\n",
       "      <td>skills_group_0</td>\n",
       "      <td>Scikit-learn</td>\n",
       "      <td>True</td>\n",
       "    </tr>\n",
       "    <tr>\n",
       "      <th>...</th>\n",
       "      <td>...</td>\n",
       "      <td>...</td>\n",
       "      <td>...</td>\n",
       "    </tr>\n",
       "    <tr>\n",
       "      <th>159</th>\n",
       "      <td>skills_group_8</td>\n",
       "      <td>SAS</td>\n",
       "      <td>False</td>\n",
       "    </tr>\n",
       "    <tr>\n",
       "      <th>160</th>\n",
       "      <td>skills_group_9</td>\n",
       "      <td>Julia</td>\n",
       "      <td>False</td>\n",
       "    </tr>\n",
       "    <tr>\n",
       "      <th>161</th>\n",
       "      <td>skills_group_9</td>\n",
       "      <td>R</td>\n",
       "      <td>False</td>\n",
       "    </tr>\n",
       "    <tr>\n",
       "      <th>162</th>\n",
       "      <td>skills_group_9</td>\n",
       "      <td>Tidyverse</td>\n",
       "      <td>False</td>\n",
       "    </tr>\n",
       "    <tr>\n",
       "      <th>163</th>\n",
       "      <td>skills_group_9</td>\n",
       "      <td>RStudio</td>\n",
       "      <td>False</td>\n",
       "    </tr>\n",
       "  </tbody>\n",
       "</table>\n",
       "<p>164 rows × 3 columns</p>\n",
       "</div>"
      ],
      "text/plain": [
       "       cluster_name                      skill  sample_skills\n",
       "0    skills_group_0  Hugging Face Transformers          False\n",
       "1    skills_group_0                      Keras          False\n",
       "2    skills_group_0                      NumPy           True\n",
       "3    skills_group_0                     Pandas           True\n",
       "4    skills_group_0               Scikit-learn           True\n",
       "..              ...                        ...            ...\n",
       "159  skills_group_8                        SAS          False\n",
       "160  skills_group_9                      Julia          False\n",
       "161  skills_group_9                          R          False\n",
       "162  skills_group_9                  Tidyverse          False\n",
       "163  skills_group_9                    RStudio          False\n",
       "\n",
       "[164 rows x 3 columns]"
      ]
     },
     "execution_count": 12,
     "metadata": {},
     "output_type": "execute_result"
    }
   ],
   "source": [
    "sample_clusters = clusters_df.copy()\n",
    "sample_clusters[\"sample_skills\"] = sample_clusters[\"skill\"].isin(sample_skills)\n",
    "sample_clusters"
   ]
  },
  {
   "cell_type": "code",
   "execution_count": 13,
   "id": "9a6c66a1-f758-4c66-86a7-b927fb575427",
   "metadata": {
    "tags": []
   },
   "outputs": [
    {
     "data": {
      "text/plain": [
       "cluster_name\n",
       "skills_group_0     5\n",
       "skills_group_1     0\n",
       "skills_group_10    0\n",
       "skills_group_11    0\n",
       "skills_group_12    0\n",
       "skills_group_13    0\n",
       "skills_group_14    2\n",
       "skills_group_15    0\n",
       "skills_group_16    0\n",
       "skills_group_17    0\n",
       "skills_group_18    0\n",
       "skills_group_19    0\n",
       "skills_group_2     0\n",
       "skills_group_20    0\n",
       "skills_group_21    0\n",
       "skills_group_22    0\n",
       "skills_group_23    0\n",
       "skills_group_24    1\n",
       "skills_group_25    0\n",
       "skills_group_26    0\n",
       "skills_group_27    0\n",
       "skills_group_28    0\n",
       "skills_group_29    0\n",
       "skills_group_3     0\n",
       "skills_group_30    0\n",
       "skills_group_31    0\n",
       "skills_group_32    0\n",
       "skills_group_33    0\n",
       "skills_group_34    0\n",
       "skills_group_35    0\n",
       "skills_group_36    0\n",
       "skills_group_37    0\n",
       "skills_group_4     0\n",
       "skills_group_5     1\n",
       "skills_group_6     0\n",
       "skills_group_7     0\n",
       "skills_group_8     0\n",
       "skills_group_9     0\n",
       "Name: sample_skills, dtype: int64"
      ]
     },
     "execution_count": 13,
     "metadata": {},
     "output_type": "execute_result"
    }
   ],
   "source": [
    "cluster_features = sample_clusters.groupby(\"cluster_name\")[\"sample_skills\"].sum()\n",
    "cluster_features"
   ]
  },
  {
   "cell_type": "markdown",
   "id": "28078033-37dd-4874-99a6-cfd4283d72c4",
   "metadata": {},
   "source": [
    "### Create OneHotEncoded Skills"
   ]
  },
  {
   "cell_type": "code",
   "execution_count": 14,
   "id": "59d7e0f2-8ae9-4e29-8df2-c42b4791cf2c",
   "metadata": {
    "tags": []
   },
   "outputs": [
    {
     "data": {
      "text/plain": [
       "0                     Git\n",
       "1               Mercurial\n",
       "2                     SVN\n",
       "3                     APL\n",
       "4                Assembly\n",
       "              ...        \n",
       "159                   Vim\n",
       "160         Visual Studio\n",
       "161    Visual Studio Code\n",
       "162              Webstorm\n",
       "163                 Xcode\n",
       "Length: 164, dtype: object"
      ]
     },
     "execution_count": 14,
     "metadata": {},
     "output_type": "execute_result"
    }
   ],
   "source": [
    "skills_names = features_names[~features_names.isin(cluster_features.index)]\n",
    "skills_names"
   ]
  },
  {
   "cell_type": "code",
   "execution_count": 15,
   "id": "43a983df-7cb4-4cde-aeb5-e0533d7dfdff",
   "metadata": {
    "tags": []
   },
   "outputs": [
    {
     "data": {
      "text/plain": [
       "Git                   1\n",
       "Mercurial             0\n",
       "SVN                   0\n",
       "APL                   0\n",
       "Assembly              0\n",
       "                     ..\n",
       "Vim                   0\n",
       "Visual Studio         0\n",
       "Visual Studio Code    0\n",
       "Webstorm              0\n",
       "Xcode                 0\n",
       "Length: 164, dtype: int64"
      ]
     },
     "execution_count": 15,
     "metadata": {},
     "output_type": "execute_result"
    }
   ],
   "source": [
    "ohe_skills = pd.Series(skills_names.isin(sample_skills).astype(int).tolist(), \n",
    "                       index=skills_names)\n",
    "ohe_skills"
   ]
  },
  {
   "cell_type": "markdown",
   "id": "dd051953-ec6a-443e-bd8b-2b7e0f1f1547",
   "metadata": {},
   "source": [
    "### Combine Features"
   ]
  },
  {
   "cell_type": "code",
   "execution_count": 16,
   "id": "2c88114a-8727-4e44-9b05-fb56d4f2968c",
   "metadata": {
    "tags": []
   },
   "outputs": [
    {
     "data": {
      "text/plain": [
       "Git               1\n",
       "Mercurial         0\n",
       "SVN               0\n",
       "APL               0\n",
       "Assembly          0\n",
       "                 ..\n",
       "skills_group_5    1\n",
       "skills_group_6    0\n",
       "skills_group_7    0\n",
       "skills_group_8    0\n",
       "skills_group_9    0\n",
       "Length: 202, dtype: int64"
      ]
     },
     "execution_count": 16,
     "metadata": {},
     "output_type": "execute_result"
    }
   ],
   "source": [
    "# Concat\n",
    "features = pd.concat([ohe_skills,\n",
    "                      cluster_features])\n",
    "features"
   ]
  },
  {
   "cell_type": "code",
   "execution_count": 17,
   "id": "56242a74-1b89-4b76-a03c-84b1fa3f0c6f",
   "metadata": {
    "tags": []
   },
   "outputs": [
    {
     "data": {
      "text/html": [
       "<div>\n",
       "<style scoped>\n",
       "    .dataframe tbody tr th:only-of-type {\n",
       "        vertical-align: middle;\n",
       "    }\n",
       "\n",
       "    .dataframe tbody tr th {\n",
       "        vertical-align: top;\n",
       "    }\n",
       "\n",
       "    .dataframe thead th {\n",
       "        text-align: right;\n",
       "    }\n",
       "</style>\n",
       "<table border=\"1\" class=\"dataframe\">\n",
       "  <thead>\n",
       "    <tr style=\"text-align: right;\">\n",
       "      <th></th>\n",
       "      <th>Git</th>\n",
       "      <th>Mercurial</th>\n",
       "      <th>SVN</th>\n",
       "      <th>APL</th>\n",
       "      <th>Assembly</th>\n",
       "      <th>Bash/Shell</th>\n",
       "      <th>C</th>\n",
       "      <th>C#</th>\n",
       "      <th>C++</th>\n",
       "      <th>COBOL</th>\n",
       "      <th>...</th>\n",
       "      <th>skills_group_34</th>\n",
       "      <th>skills_group_35</th>\n",
       "      <th>skills_group_36</th>\n",
       "      <th>skills_group_37</th>\n",
       "      <th>skills_group_4</th>\n",
       "      <th>skills_group_5</th>\n",
       "      <th>skills_group_6</th>\n",
       "      <th>skills_group_7</th>\n",
       "      <th>skills_group_8</th>\n",
       "      <th>skills_group_9</th>\n",
       "    </tr>\n",
       "  </thead>\n",
       "  <tbody>\n",
       "    <tr>\n",
       "      <th>0</th>\n",
       "      <td>1</td>\n",
       "      <td>0</td>\n",
       "      <td>0</td>\n",
       "      <td>0</td>\n",
       "      <td>0</td>\n",
       "      <td>0</td>\n",
       "      <td>0</td>\n",
       "      <td>0</td>\n",
       "      <td>0</td>\n",
       "      <td>0</td>\n",
       "      <td>...</td>\n",
       "      <td>0</td>\n",
       "      <td>0</td>\n",
       "      <td>0</td>\n",
       "      <td>0</td>\n",
       "      <td>0</td>\n",
       "      <td>1</td>\n",
       "      <td>0</td>\n",
       "      <td>0</td>\n",
       "      <td>0</td>\n",
       "      <td>0</td>\n",
       "    </tr>\n",
       "  </tbody>\n",
       "</table>\n",
       "<p>1 rows × 202 columns</p>\n",
       "</div>"
      ],
      "text/plain": [
       "   Git  Mercurial  SVN  APL  Assembly  Bash/Shell  C  C#  C++  COBOL  ...  \\\n",
       "0    1          0    0    0         0           0  0   0    0      0  ...   \n",
       "\n",
       "   skills_group_34  skills_group_35  skills_group_36  skills_group_37  \\\n",
       "0                0                0                0                0   \n",
       "\n",
       "   skills_group_4  skills_group_5  skills_group_6  skills_group_7  \\\n",
       "0               0               1               0               0   \n",
       "\n",
       "   skills_group_8  skills_group_9  \n",
       "0               0               0  \n",
       "\n",
       "[1 rows x 202 columns]"
      ]
     },
     "execution_count": 17,
     "metadata": {},
     "output_type": "execute_result"
    }
   ],
   "source": [
    "# Sort columns\n",
    "features = features.loc[features_names]\n",
    "features =pd.DataFrame([features.values],columns=features.index)\n",
    "features"
   ]
  },
  {
   "cell_type": "code",
   "execution_count": null,
   "id": "1f35a4fb-709a-4792-8290-a5d61dbbeec8",
   "metadata": {
    "tags": []
   },
   "outputs": [],
   "source": []
  },
  {
   "cell_type": "markdown",
   "id": "d94cf20c-4848-4efd-afce-59f2041f3e3b",
   "metadata": {},
   "source": [
    "### Job Prediction"
   ]
  },
  {
   "cell_type": "code",
   "execution_count": 18,
   "id": "ed1c35ca-df10-476f-9875-bcbab4e4fba5",
   "metadata": {
    "tags": []
   },
   "outputs": [
    {
     "data": {
      "text/plain": [
       "[array([[0.49871374, 0.50128626]]),\n",
       " array([[0.88151233, 0.11848767]]),\n",
       " array([[0.86751218, 0.13248782]]),\n",
       " array([[0.93592567, 0.06407433]]),\n",
       " array([[0.97730389, 0.02269611]]),\n",
       " array([[1., 0.]]),\n",
       " array([[0.99391257, 0.00608743]]),\n",
       " array([[1., 0.]]),\n",
       " array([[0.98350519, 0.01649481]]),\n",
       " array([[0.99170629, 0.00829371]]),\n",
       " array([[0.96443279, 0.03556721]]),\n",
       " array([[0.66255433, 0.33744567]]),\n",
       " array([[0.98364706, 0.01635294]]),\n",
       " array([[1., 0.]]),\n",
       " array([[0.979168, 0.020832]]),\n",
       " array([[0.99180332, 0.00819668]]),\n",
       " array([[0.96904925, 0.03095075]]),\n",
       " array([[0.98605316, 0.01394684]]),\n",
       " array([[0.59448137, 0.40551863]])]"
      ]
     },
     "execution_count": 18,
     "metadata": {},
     "output_type": "execute_result"
    }
   ],
   "source": [
    "predictions = classifier.predict_proba(features)\n",
    "predictions"
   ]
  },
  {
   "cell_type": "code",
   "execution_count": 19,
   "id": "fcdfed63-b382-40bb-9542-b45895df44e8",
   "metadata": {
    "tags": []
   },
   "outputs": [
    {
     "data": {
      "text/plain": [
       "Data scientist or machine learning specialist    0.501286\n",
       "Academic researcher                              0.405519\n",
       "Scientist                                        0.337446\n",
       "Data or business analyst                         0.132488\n",
       "Engineer, data                                   0.118488\n",
       "Developer, back-end                              0.064074\n",
       "System administrator                             0.035567\n",
       "Developer, desktop or enterprise applications    0.030951\n",
       "Database administrator                           0.022696\n",
       "Developer, front-end                             0.020832\n",
       "Developer, embedded applications or devices      0.016495\n",
       "Security professional                            0.016353\n",
       "DevOps specialist                                0.013947\n",
       "Developer, QA or test                            0.008294\n",
       "Blockchain                                       0.008197\n",
       "Developer, full-stack                            0.006087\n",
       "Cloud infrastructure engineer                    0.000000\n",
       "Developer, mobile                                0.000000\n",
       "Developer, game or graphics                      0.000000\n",
       "dtype: float64"
      ]
     },
     "execution_count": 19,
     "metadata": {},
     "output_type": "execute_result"
    }
   ],
   "source": [
    "# return positive probabilities\n",
    "positive_probs = [prob[0][1] for prob in predictions]\n",
    "pd.Series(positive_probs, \n",
    "          index=targets_names).sort_values(ascending=False)"
   ]
  }
 ],
 "metadata": {
  "kernelspec": {
   "display_name": "Python 3 (ipykernel)",
   "language": "python",
   "name": "python3"
  },
  "language_info": {
   "codemirror_mode": {
    "name": "ipython",
    "version": 3
   },
   "file_extension": ".py",
   "mimetype": "text/x-python",
   "name": "python",
   "nbconvert_exporter": "python",
   "pygments_lexer": "ipython3",
   "version": "3.11.4"
  }
 },
 "nbformat": 4,
 "nbformat_minor": 5
}
